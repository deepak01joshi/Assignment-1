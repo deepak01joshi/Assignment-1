{
  "nbformat": 4,
  "nbformat_minor": 0,
  "metadata": {
    "colab": {
      "provenance": []
    },
    "kernelspec": {
      "name": "python3",
      "display_name": "Python 3"
    },
    "language_info": {
      "name": "python"
    }
  },
  "cells": [
    {
      "cell_type": "markdown",
      "source": [
        "1. What is Python, and why is it popular.\n",
        "   >Answer: Python is a general-purpose interpreted, interactive, object-oriented, and high-level programming language. It was created by Guido van Rossum during 1985- 1990. Python is one of the most popular programming languages today, known for its simplicity and extensive features. Its clean and straightforward syntax makes it beginner-friendly, while its powerful libraries and frameworks makes it perfect for developers.\n",
        "   >It is very popular because pyton has lot of library. Developer can use those library in the project and python can be use in both frontend and backends as well as it can be used in data analytics and full stacks development. that why is too popular.\n"
      ],
      "metadata": {
        "id": "fHd_Zeu2XJMM"
      }
    },
    {
      "cell_type": "markdown",
      "source": [
        "\n",
        "\n",
        "```\n",
        "# This is formatted as code\n",
        "```\n",
        "\n"
      ],
      "metadata": {
        "id": "OmVCYvHYY03r"
      }
    },
    {
      "cell_type": "markdown",
      "source": [
        "2. What is an interpreter in Python.\n",
        "    > Answer:An interpreter in Python is a program that reads and executes Python code directly, line by line, without the need to compile the code into machine code first. This means that, unlike compiled languages (such as C or Java), Python code is executed in its original source form, allowing for easier testing and debugging.\n",
        "\n",
        "    >Key characteristics of the Python interpreter:\n",
        "\n",
        "    >Line-by-line Execution: It processes the code line by line, which means that errors are reported immediately when encountered, making it easier to debug code.\n",
        "\n",
        "   >Dynamic Typing: Since Python is dynamically typed, the interpreter checks variable types during runtime rather than at compile time, adding flexibility to the language.\n",
        "\n",
        "   >Cross-platform: Python's interpreter can run on different platforms (Windows, macOS, Linux), and the same Python code can often be executed on different operating systems without modification.\n",
        "\n",
        "   >Interactive Mode: Python provides an interactive shell, which allows you to execute code immediately and see the results. This is helpful for experimentation and learning.\n",
        "\n",
        "   >Portability: Python interpreters are available for various systems and platforms, which means Python code can run almost anywhere."
      ],
      "metadata": {
        "id": "podWG6PfbhGR"
      }
    },
    {
      "cell_type": "markdown",
      "source": [
        "3. What are pre-defined keywords in Python.\n",
        "  >Answer: Python Keywords are some predefined and reserved words in Python that have special meanings. Keywords are used to define the syntax of the coding. The keyword cannot be used as an identifier, function, or variable name. All the keywords in Python are written in lowercase except True and False. There are 35 keywords in Python. ﻿namaste"
      ],
      "metadata": {
        "id": "gGdbJvOxewPW"
      }
    },
    {
      "cell_type": "markdown",
      "source": [
        "4. Can keywords be used as variable names?\n",
        "   >No, Keywords can't be used as veriable names. Because Keywords are pre-defined and reserved words."
      ],
      "metadata": {
        "id": "QJTlIBH3hJ2S"
      }
    },
    {
      "cell_type": "markdown",
      "source": [
        "5. What is mutability in Python?\n",
        "   >Answer: Mutability means we can change the value of object and modify the element from the list after creation of object and list.\n"
      ],
      "metadata": {
        "id": "PAuqMQbah-zL"
      }
    },
    {
      "cell_type": "markdown",
      "source": [
        "6. Why are lists mutable, but tuples are immutable?\n",
        "   >Answer: As tuples are stored in a single memory block therefore they don’t require extra space for new objects whereas the lists are allocated in two blocks, first the fixed one with all the Python object information and second a variable-sized block for the data.\n",
        "   "
      ],
      "metadata": {
        "id": "5ZPtYmp5jQY0"
      }
    },
    {
      "cell_type": "markdown",
      "source": [
        "7. What is the difference between “==” and “is” operators in Python?\n",
        "   >Answer:This Operators \"==\" is used To compare objects based on their values. \"is\" used to assign a value to the variable."
      ],
      "metadata": {
        "id": "aORZMYBLleCW"
      }
    },
    {
      "cell_type": "markdown",
      "source": [],
      "metadata": {
        "id": "YEKAHDebjNvr"
      }
    },
    {
      "cell_type": "markdown",
      "source": [
        "8. What are logical operators in Python?\n",
        "   >Answer: Python logical operators are used to combine conditional statements, allowing you to perform operations based on multiple conditions. These Python operators, alongside arithmetic operators, are special symbols used to carry out computations on values and variables.\n",
        "   Logical operators are used on conditional statements (either True or False). They perform Logical AND, Logical OR, and Logical NOT operations."
      ],
      "metadata": {
        "id": "iXIjTOMMmlwo"
      }
    },
    {
      "cell_type": "markdown",
      "source": [
        "9 . What is type casting in Python?\n",
        "    >Answer: Type Casting is the method to convert the Python variable datatype into a certain data type in order to perform the required operation by users.\n",
        "    e.g :\n",
        "\n",
        "```\n",
        "# This is formatted as code\n",
        "#type casting\n",
        "a = 5\n",
        "b = float(a)\n",
        "print(b)\n",
        "print(typeof(b))\n",
        "```\n",
        "\n"
      ],
      "metadata": {
        "id": "OzHSTJB1nVVi"
      }
    },
    {
      "cell_type": "markdown",
      "source": [
        "10. What is the difference between implicit and explicit type casting?\n",
        "    >Answer:In implicit type casting, the programming language automatically converts data from one type to another if needed. For example, if you have an integer variable and you try to assign it to a float variable, the programming language will automatically convert the integer to a float without you having to do anything.\n",
        "    \n",
        "    >Explicit type casting, also known as type conversion or type coercion, occurs when the programmer explicitly converts a value from one data type to another. Unlike implicit type casting, explicit type casting requires the programmer to specify the desired data type conversion."
      ],
      "metadata": {
        "id": "JtTRCUasoMgP"
      }
    },
    {
      "cell_type": "markdown",
      "source": [
        "11.  What is the purpose of conditional statements in Python?\n",
        "    >Answer: Conditional statements in Python are used to execute certain blocks of code based on specific conditions. These statements help control the flow of a program, making it behave differently in different situations.\n",
        "    Type of Conditional Statements -\n",
        "     \n",
        "\n",
        "1.   if\n",
        "2.   elif\n",
        "3.   else"
      ],
      "metadata": {
        "id": "TSyT03ytpFGf"
      }
    },
    {
      "cell_type": "markdown",
      "source": [
        "12. How does the elif statement work?\n",
        "    >Answer:  the elif statement allows for more than one condition to be tested, and the code block corresponding to the first True condition is executed.\n",
        "    >The elif statement in Python stands for \"else if\" and is used as a part of conditional branching to check multiple expressions for True and execute a block of code as soon as one of the conditions is satisfied. It helps avoid multiple nested if statements and makes the code more readable."
      ],
      "metadata": {
        "id": "U1oms0qcqGWc"
      }
    },
    {
      "cell_type": "markdown",
      "source": [
        "13. What is the difference between for and while loops?\n",
        "    >Answer: The for loop is used when you know in advance how many times you want to execute the block of code.\n",
        "It iterates over a sequence (e.g., a list, tuple, string, or range) and executes the block of code for each item in the sequence.\n",
        "The loop variable (variable) takes the value of each item in the sequence during each iteration\n",
        "\n",
        "   >The while loop is used when you don't know in advance how many times you want to execute the block of code. It continues to execute as long as the specified condition is true.\n",
        "It's important to make sure that the condition eventually becomes false; otherwise, the loop will run indefinitely, resulting in an infinite loop."
      ],
      "metadata": {
        "id": "Ot8lLSO2vh7O"
      }
    },
    {
      "cell_type": "markdown",
      "source": [
        "14. Describe a scenario where a while loop is more suitable than a for loop.?\n",
        ">Answer: **Scenario: Waiting for User Input**\n",
        "\n",
        "  >Imagine you are writing a program where you ask the user to input a valid password. The program should continue prompting the user until they enter the correct password. In this case, you don’t know how many attempts the user will need before they provide the correct password. A while loop is ideal here because the loop will continue until the condition (correct password) is met."
      ],
      "metadata": {
        "id": "Jd13_bGdwVz_"
      }
    },
    {
      "cell_type": "code",
      "source": [
        "#1 Write a Python program to print \"Hello, World!\".\n",
        "print(\"Hello, World!\")"
      ],
      "metadata": {
        "colab": {
          "base_uri": "https://localhost:8080/"
        },
        "id": "XTTKo_DTypbA",
        "outputId": "85c701de-1215-4132-bc16-298dcd2b7a7a"
      },
      "execution_count": 18,
      "outputs": [
        {
          "output_type": "stream",
          "name": "stdout",
          "text": [
            "Hello, World!\n"
          ]
        }
      ]
    },
    {
      "cell_type": "code",
      "source": [
        "#2 Write a Python program that displays your name and age.\n",
        "name = \"deepak Joshi\"\n",
        "Age = 23\n",
        "print(name)\n",
        "print(Age)"
      ],
      "metadata": {
        "colab": {
          "base_uri": "https://localhost:8080/"
        },
        "id": "ULqI_iEMyoQy",
        "outputId": "3587c5c8-340c-4147-c5f7-8107ed007c8b"
      },
      "execution_count": 23,
      "outputs": [
        {
          "output_type": "stream",
          "name": "stdout",
          "text": [
            "deepak Joshi\n",
            "23\n"
          ]
        }
      ]
    },
    {
      "cell_type": "code",
      "source": [
        "import keyword\n",
        "print(\"python keyword are....\")\n",
        "print(keyword.kwlist)"
      ],
      "metadata": {
        "colab": {
          "base_uri": "https://localhost:8080/"
        },
        "id": "nMiOK0ULzHHP",
        "outputId": "7f4be402-8f6a-4256-c976-a39fe4581e3c"
      },
      "execution_count": 25,
      "outputs": [
        {
          "output_type": "stream",
          "name": "stdout",
          "text": [
            "python keyword are....\n",
            "['False', 'None', 'True', 'and', 'as', 'assert', 'async', 'await', 'break', 'class', 'continue', 'def', 'del', 'elif', 'else', 'except', 'finally', 'for', 'from', 'global', 'if', 'import', 'in', 'is', 'lambda', 'nonlocal', 'not', 'or', 'pass', 'raise', 'return', 'try', 'while', 'with', 'yield']\n"
          ]
        }
      ]
    },
    {
      "cell_type": "code",
      "source": [
        "#4. Write a program that checks if a given word is a Python keyword.\n",
        "# import keyword library\n",
        "import keyword\n",
        "\n",
        "keyword_list = keyword.kwlist\n",
        "print(\"No. of keywords present in current version :\",\n",
        "\t\t\t\t\t\t\t\tlen(keyword_list))\n",
        "\n",
        "print(keyword_list)\n"
      ],
      "metadata": {
        "colab": {
          "base_uri": "https://localhost:8080/"
        },
        "id": "4sVH6EBF0qrC",
        "outputId": "20c0b38c-ff17-4b02-efbe-694135672bc2"
      },
      "execution_count": 29,
      "outputs": [
        {
          "output_type": "stream",
          "name": "stdout",
          "text": [
            "No. of keywords present in current version : 35\n",
            "['False', 'None', 'True', 'and', 'as', 'assert', 'async', 'await', 'break', 'class', 'continue', 'def', 'del', 'elif', 'else', 'except', 'finally', 'for', 'from', 'global', 'if', 'import', 'in', 'is', 'lambda', 'nonlocal', 'not', 'or', 'pass', 'raise', 'return', 'try', 'while', 'with', 'yield']\n"
          ]
        }
      ]
    },
    {
      "cell_type": "code",
      "source": [
        "#5.Create a list and tuple in Python, and demonstrate how attempting to change an element works differently for each.\n",
        "my_list = [1,2,3,4,5]\n",
        "my_tuple = (1,2,3,4,5)\n",
        "#tying to change an element in the list\n",
        "print(\"Original List\",my_list)\n",
        "my_list[1] = 25\n",
        "print(\"Modified list\",my_list)\n",
        "#tying to change an element in the tuple\n",
        "print(\"original tuple\",my_tuple)\n",
        "try:\n",
        "  my_tuple[1] = 26\n",
        "  print(\"modified tuple\",my_tuple)\n",
        "except TypeError as e:\n",
        "  print(f\"Error while modifying tuple:{e}\")\n"
      ],
      "metadata": {
        "colab": {
          "base_uri": "https://localhost:8080/"
        },
        "id": "sCA-9gMN3oP6",
        "outputId": "f57a1673-c27b-4aa9-fc5e-ad2aa65efaf1"
      },
      "execution_count": 7,
      "outputs": [
        {
          "output_type": "stream",
          "name": "stdout",
          "text": [
            "Original List [1, 2, 3, 4, 5]\n",
            "Modified list [1, 25, 3, 4, 5]\n",
            "original tuple (1, 2, 3, 4, 5)\n",
            "Error while modifying tuple:'tuple' object does not support item assignment\n"
          ]
        }
      ]
    },
    {
      "cell_type": "code",
      "source": [
        "#6.Write a function to demonstrate the behavior of mutable and immutable arguments.\n",
        "def check_mutable_immutable(mutable_arguments, immutable_arguments):\n",
        "  print(\"before Modification:\")\n",
        "  print(f\"mutable argument:{mutable_arguments}\")\n",
        "  print(f\"Immutable argument: {immutable_arguments}\")\n",
        "\n",
        "  #Modifying the mutable argument(a list)\n",
        "  mutable_arguments.append(4)\n",
        "  print(\"\\nAfter modifying mutable argument:\")\n",
        "  print(f\"Mutable argument: {mutable_arguments}\")\n",
        "\n",
        "  # Modifying the immutable argument (a string)\n",
        "  try:\n",
        "        immutable_arguments += \" World\"\n",
        "        print(\"\\nAfter modifying immutable argument:\")\n",
        "        print(f\"Immutable argument: {immutable_arguments}\")\n",
        "  except Exception as e:\n",
        "        print(f\"Error while modifying immutable argument: {e}\")\n",
        "\n",
        "\n",
        "# Test the function with a mutable and an immutable argument\n",
        "mutable_list = [1, 2, 3]\n",
        "immutable_string = \"Hello\"\n",
        "\n",
        "check_mutable_immutable(mutable_list, immutable_string)\n",
        "\n",
        "print(\"\\nOutside the function:\")\n",
        "print(f\"Mutable list: {mutable_list}\")\n",
        "print(f\"Immutable string: {immutable_string}\")\n"
      ],
      "metadata": {
        "colab": {
          "base_uri": "https://localhost:8080/"
        },
        "id": "C1QHORD8IBF0",
        "outputId": "18168150-7a39-4305-9137-84fb7ba35376"
      },
      "execution_count": 12,
      "outputs": [
        {
          "output_type": "stream",
          "name": "stdout",
          "text": [
            "before Modification:\n",
            "mutable argument:[1, 2, 3]\n",
            "Immutable argument: Hello\n",
            "\n",
            "After modifying mutable argument:\n",
            "Mutable argument: [1, 2, 3, 4]\n",
            "\n",
            "After modifying immutable argument:\n",
            "Immutable argument: Hello World\n",
            "\n",
            "Outside the function:\n",
            "Mutable list: [1, 2, 3, 4]\n",
            "Immutable string: Hello\n"
          ]
        }
      ]
    },
    {
      "cell_type": "code",
      "source": [
        "#8Write a program to demonstrate the use of logical operators.\n"
      ],
      "metadata": {
        "id": "JaF2mD5-xD-K"
      },
      "execution_count": null,
      "outputs": []
    }
  ]
}
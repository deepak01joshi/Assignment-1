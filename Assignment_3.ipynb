{
  "nbformat": 4,
  "nbformat_minor": 0,
  "metadata": {
    "colab": {
      "provenance": []
    },
    "kernelspec": {
      "name": "python3",
      "display_name": "Python 3"
    },
    "language_info": {
      "name": "python"
    }
  },
  "cells": [
    {
      "cell_type": "markdown",
      "source": [
        "1. What is the difference between a function and a method in Python?\n",
        ">>Answer : Function: A Function is a reusable piece of code. It can have input data on which it can operate (i.e. arguments) and it can also return data by having a return type. It is the concept of procedural and functional programming languages.\n",
        "\n",
        ">>Method: The working of the method is similar to a function i.e. it also can have input parameters/arguments and can also return data by having a return type but has two important differences when compared to a function.\n",
        "\n",
        ">>A method is associated or related to the instance of the object it is called using.\n",
        ">>A method is limited to operating on data inside the class in which the method is contained.\n",
        "It is a concept of object-oriented programming language.\n",
        "In simple words if a function is part of an instance of a class i.e. (Object) then it is called method else it is called function."
      ],
      "metadata": {
        "id": "3QRPDc3KEn4i"
      }
    },
    {
      "cell_type": "markdown",
      "source": [],
      "metadata": {
        "id": "0sBCIe6oFAvu"
      }
    },
    {
      "cell_type": "markdown",
      "source": [
        "2. Explain the concept of function arguments and parameters in Python?\n",
        ">>Answer : function arguments are the inputs we provide to a function when we call it. Using arguments makes our functions flexible and reusable, allowing them to handle different inputs without altering the code itself. Python offers several ways to use arguments, each designed for specific scenarios."
      ],
      "metadata": {
        "id": "vRFmCrmFFXRs"
      }
    },
    {
      "cell_type": "markdown",
      "source": [
        "3. What are the different ways to define and call a function in Python?\n",
        ">>Answer : To call a function in Python, we definitely type the name of the function observed via parentheses (). If the function takes any arguments, they may be covered within the parentheses . Below is the example for calling def function Python.\n",
        "\n",
        ">>Syntax of Calling a function:\n",
        ">>**function_name(arguments)**"
      ],
      "metadata": {
        "id": "Ev-uBUuKGMUk"
      }
    },
    {
      "cell_type": "markdown",
      "source": [
        "4.What is the purpose of the `return` statement in a Python function?\n",
        ">>Answer : return can also be used for control flow. By putting one or more return statements in the middle of a function, we can say: \"stop executing this function. We've either got what we wanted or something's gone wrong!\""
      ],
      "metadata": {
        "id": "t9dup0EaG50N"
      }
    },
    {
      "cell_type": "markdown",
      "source": [
        "5. What are iterators in Python and how do they differ from iterables?\n",
        ">>Answer : Anything which we can loop or iterate over is called an iterable in Python. When we pass an iterable object into the iter() function in Python, it returns an iterator.\n",
        ">>In Python, an iterator is an object which is obtained from an iterable object by passing it to the iter() function. An iterator holds a countable number of values that can be iterated upon. An iterator is used to iterate over the iterable objects like lists, strings, tuples, etc. in Python. On the iteration of an iterator, it returns each element one by one."
      ],
      "metadata": {
        "id": "RADxdKyoHism"
      }
    },
    {
      "cell_type": "markdown",
      "source": [
        "6. Explain the concept of generators in Python and how they are defined.\n",
        ">>Answer : a generator is a function that returns an iterator that produces a sequence of values when iterated over.\n",
        "\n",
        ">>Generators are useful when we want to produce a large sequence of values, but we don't want to store all of them in memory at once.\n",
        ">>the yield keyword is used to produce a value from the generator.\n",
        "\n",
        ">>When the generator function is called, it does not execute the function body immediately. Instead, it returns a generator object that can be iterated over to produce the values."
      ],
      "metadata": {
        "id": "wGSErtHiIf7x"
      }
    },
    {
      "cell_type": "markdown",
      "source": [
        "7.What are the advantages of using generators over regular functions?\n",
        ">>Answer : regular functions in Python are used for traditional computation tasks, with execution proceeding from start to finish, typically returning a single result. On the other hand, generator functions employ the `yield` statement to produce values lazily, preserving their state across multiple calls. This allows generators to efficiently handle large datasets or infinite sequences by yielding values one at a time and pausing execution when necessary, making them a valuable tool for memory-efficient and iterative tasks. In this article, we’ll look into Python generator functions and normal function differences i.e. how different are their syntax, how is data handled, and practical applications."
      ],
      "metadata": {
        "id": "iP59AD_tJO61"
      }
    },
    {
      "cell_type": "markdown",
      "source": [
        "8. What is a lambda function in Python and when is it typically used?\n",
        ">>Answer : Python Lambda Functions are anonymous functions means that the function is without a name. As we already know the def keyword is used to define a normal function in Python. Similarly, the lambda keyword is used to define an anonymous function in Python.\n",
        ">>**Python Lambda Function Syntax**\n",
        ">>Syntax: lambda arguments : expression\n",
        "\n",
        ">>lambda: The keyword to define the function.\n",
        "arguments: A comma-separated list of input parameters (like in a regular function).\n",
        "expression: A single expression that is evaluated and returned."
      ],
      "metadata": {
        "id": "M8mS6nyrJzSo"
      }
    },
    {
      "cell_type": "markdown",
      "source": [
        "9. Explain the purpose and usage of the `map()` function in Python.\n",
        ">>Answer : The map() function executes a specified function for each item in an iterable. The item is sent to the function as a parameter.\n",
        ">>**Syntax**\n",
        ">>map(function, iterables)"
      ],
      "metadata": {
        "id": "4sIduyk5KVfZ"
      }
    },
    {
      "cell_type": "markdown",
      "source": [
        "10. What is the difference between `map()`, `reduce()`, and `filter()` functions in Python?\n",
        ">>Answer : Map, Reduce, and Filter Operations in Python. These three operations are paradigms of functional programming. They allow one to write simpler, shorter code without needing to bother about intricacies like loops and branching. In this article, we will see Map Reduce and Filter Operations in Python.\n",
        ">>**Syntax**\n",
        ">>map() Function\n",
        "Reduce() Function\n",
        "Filter() Function"
      ],
      "metadata": {
        "id": "51d9sI-eLOTH"
      }
    },
    {
      "cell_type": "markdown",
      "source": [
        "11.Using pen & Paper write the internal mechanism for sum operation using  reduce function on this given\n",
        "list:[47,11,42,13];\n"
      ],
      "metadata": {
        "id": "oAInIoEOP0wn"
      }
    },
    {
      "cell_type": "markdown",
      "source": [
        "# **Practicals Question**"
      ],
      "metadata": {
        "id": "ZMBLUn8p6Soz"
      }
    },
    {
      "cell_type": "markdown",
      "source": [],
      "metadata": {
        "id": "OSwIFd2r6SHA"
      }
    },
    {
      "cell_type": "code",
      "source": [
        "#1. Write a Python function that takes a list of numbers as input and returns the sum of all even numbers in the list.\n",
        "def sum(numbers):\n",
        "  total = 0\n",
        "  for x in numbers:\n",
        "    total += x\n",
        "  return total\n",
        "print(sum((8,2,3,0,3)))"
      ],
      "metadata": {
        "colab": {
          "base_uri": "https://localhost:8080/"
        },
        "id": "sZycDG42iV7q",
        "outputId": "7376ccb1-7348-4c62-d131-3f7dffaf6f7e"
      },
      "execution_count": 4,
      "outputs": [
        {
          "output_type": "stream",
          "name": "stdout",
          "text": [
            "16\n"
          ]
        }
      ]
    },
    {
      "cell_type": "code",
      "source": [
        "#2.  Create a Python function that accepts a string and returns the reverse of that string.\n",
        "def reverse_string(s):\n",
        "    return s[::-1]\n",
        "input_string = \"hello\"\n",
        "reversed_string = reverse_string(input_string)\n",
        "print(reversed_string)"
      ],
      "metadata": {
        "colab": {
          "base_uri": "https://localhost:8080/"
        },
        "id": "pm--ascyj3iw",
        "outputId": "4adff5ff-9f60-4381-e485-71214e8a9757"
      },
      "execution_count": 16,
      "outputs": [
        {
          "output_type": "stream",
          "name": "stdout",
          "text": [
            "olleh\n"
          ]
        }
      ]
    },
    {
      "cell_type": "code",
      "source": [
        "#3.Implement a Python function that takes a list of integers and returns a new list containing the squares of each number.\n",
        "def square_numbers(numbers):\n",
        "  return [num ** 2 for num in numbers]\n",
        "numbers = [1,2,3,4,5,6]\n",
        "square_numbers = square_numbers(numbers)\n",
        "print(square_numbers)"
      ],
      "metadata": {
        "colab": {
          "base_uri": "https://localhost:8080/"
        },
        "id": "syMNGLHztQSZ",
        "outputId": "887c0fa9-ba6b-4c16-c921-2846946bcc29"
      },
      "execution_count": 17,
      "outputs": [
        {
          "output_type": "stream",
          "name": "stdout",
          "text": [
            "[1, 4, 9, 16, 25, 36]\n"
          ]
        }
      ]
    },
    {
      "cell_type": "code",
      "source": [
        "#4. Write a Python function that checks if a given number is prime or not from 1 to 200.\n",
        "num = 12\n",
        "if num > 1:\n",
        "    for i in range(2, (num//2)+1):\n",
        "        if (num % i) == 0:\n",
        "            print(num, \"is not a prime number\")\n",
        "            break\n",
        "    else:\n",
        "        print(num, \"is a prime number\")\n",
        "else:\n",
        "    print(num, \"is not a prime number\")"
      ],
      "metadata": {
        "colab": {
          "base_uri": "https://localhost:8080/"
        },
        "id": "0Q96swKhurQS",
        "outputId": "09fc6ea0-08a6-4e54-bcc8-46138b64d72b"
      },
      "execution_count": 25,
      "outputs": [
        {
          "output_type": "stream",
          "name": "stdout",
          "text": [
            "12 is not a prime number\n"
          ]
        }
      ]
    },
    {
      "cell_type": "code",
      "source": [
        "#5.Create an iterator class in Python that generates the Fibonacci sequence up to a specified number of terms.\n",
        "def fibonacci(n):\n",
        "\n",
        "    l = [0,1]\n",
        "    for i in range(2,n):\n",
        "        l.append(l[-1]+l[-2])\n",
        "    return l\n",
        "\n",
        "#Main function\n",
        "if __name__ == \"__main__\":\n",
        "   #defining the total number of elements\n",
        "    n = 10\n",
        "\n",
        "    #calling of function\n",
        "    fibo = fibonacci(n)\n",
        "\n",
        "    #displaying the function\n",
        "    print(\"Fibonacci Series: \",*fibo)\n"
      ],
      "metadata": {
        "colab": {
          "base_uri": "https://localhost:8080/"
        },
        "id": "nGJwspb-uq9V",
        "outputId": "84870127-bbb6-48bd-9f8c-867cc4c009b7"
      },
      "execution_count": 34,
      "outputs": [
        {
          "output_type": "stream",
          "name": "stdout",
          "text": [
            "Fibonacci Series:  0 1 1 2 3 5 8 13 21 34\n"
          ]
        }
      ]
    },
    {
      "cell_type": "code",
      "source": [
        "#6.Write a generator function in Python that yields the powers of 2 up to a given exponent.\n",
        "def power_generator(base, exponent):\n",
        "  result = 1\n",
        "  for i in range(exponent + 1):\n",
        "    yield result\n",
        "    result *= base\n",
        "base = int(input(\"input the base number: \"))\n",
        "exponent = int(input(\"input the exponent: \"))\n",
        "\n",
        "power_gen = power_generator(base, exponent)\n",
        "print(f\"Power of {base} up to exponent{exponent}:\")\n",
        "for power in power_gen:\n",
        "  print(power)\n"
      ],
      "metadata": {
        "colab": {
          "base_uri": "https://localhost:8080/"
        },
        "id": "9WAJLlX0xl8P",
        "outputId": "07ca20e3-143f-4905-9173-9fb825cbab98"
      },
      "execution_count": 26,
      "outputs": [
        {
          "output_type": "stream",
          "name": "stdout",
          "text": [
            "input the base number: 12\n",
            "input the exponent: 23\n",
            "Power of 12 up to exponent23:\n",
            "1\n",
            "12\n",
            "144\n",
            "1728\n",
            "20736\n",
            "248832\n",
            "2985984\n",
            "35831808\n",
            "429981696\n",
            "5159780352\n",
            "61917364224\n",
            "743008370688\n",
            "8916100448256\n",
            "106993205379072\n",
            "1283918464548864\n",
            "15407021574586368\n",
            "184884258895036416\n",
            "2218611106740436992\n",
            "26623333280885243904\n",
            "319479999370622926848\n",
            "3833759992447475122176\n",
            "46005119909369701466112\n",
            "552061438912436417593344\n",
            "6624737266949237011120128\n"
          ]
        }
      ]
    },
    {
      "cell_type": "code",
      "source": [
        "#7.Implement a generator function that reads a file line by line and yields each line as a string.\n",
        "def read_file_line_by_line(file_path):\n",
        "    with open(file_path, 'r') as file:\n",
        "        for line in file:\n",
        "            yield line.strip()\n",
        "file_path = 'large_text_file.txt'\n",
        "for line in read_file_line_by_line(file_path):\n",
        "    print(line)\n"
      ],
      "metadata": {
        "colab": {
          "base_uri": "https://localhost:8080/",
          "height": 315
        },
        "collapsed": true,
        "id": "HKz15S1yxl4s",
        "outputId": "b14fa2cd-f392-4aaa-b073-72a17e43e1ae"
      },
      "execution_count": 27,
      "outputs": [
        {
          "output_type": "error",
          "ename": "FileNotFoundError",
          "evalue": "[Errno 2] No such file or directory: 'large_text_file.txt'",
          "traceback": [
            "\u001b[0;31m---------------------------------------------------------------------------\u001b[0m",
            "\u001b[0;31mFileNotFoundError\u001b[0m                         Traceback (most recent call last)",
            "\u001b[0;32m<ipython-input-27-dabe67bef0fa>\u001b[0m in \u001b[0;36m<cell line: 0>\u001b[0;34m()\u001b[0m\n\u001b[1;32m      5\u001b[0m             \u001b[0;32myield\u001b[0m \u001b[0mline\u001b[0m\u001b[0;34m.\u001b[0m\u001b[0mstrip\u001b[0m\u001b[0;34m(\u001b[0m\u001b[0;34m)\u001b[0m\u001b[0;34m\u001b[0m\u001b[0;34m\u001b[0m\u001b[0m\n\u001b[1;32m      6\u001b[0m \u001b[0mfile_path\u001b[0m \u001b[0;34m=\u001b[0m \u001b[0;34m'large_text_file.txt'\u001b[0m\u001b[0;34m\u001b[0m\u001b[0;34m\u001b[0m\u001b[0m\n\u001b[0;32m----> 7\u001b[0;31m \u001b[0;32mfor\u001b[0m \u001b[0mline\u001b[0m \u001b[0;32min\u001b[0m \u001b[0mread_file_line_by_line\u001b[0m\u001b[0;34m(\u001b[0m\u001b[0mfile_path\u001b[0m\u001b[0;34m)\u001b[0m\u001b[0;34m:\u001b[0m\u001b[0;34m\u001b[0m\u001b[0;34m\u001b[0m\u001b[0m\n\u001b[0m\u001b[1;32m      8\u001b[0m     \u001b[0mprint\u001b[0m\u001b[0;34m(\u001b[0m\u001b[0mline\u001b[0m\u001b[0;34m)\u001b[0m\u001b[0;34m\u001b[0m\u001b[0;34m\u001b[0m\u001b[0m\n",
            "\u001b[0;32m<ipython-input-27-dabe67bef0fa>\u001b[0m in \u001b[0;36mread_file_line_by_line\u001b[0;34m(file_path)\u001b[0m\n\u001b[1;32m      1\u001b[0m \u001b[0;31m#7.Implement a generator function that reads a file line by line and yields each line as a string.\u001b[0m\u001b[0;34m\u001b[0m\u001b[0;34m\u001b[0m\u001b[0m\n\u001b[1;32m      2\u001b[0m \u001b[0;32mdef\u001b[0m \u001b[0mread_file_line_by_line\u001b[0m\u001b[0;34m(\u001b[0m\u001b[0mfile_path\u001b[0m\u001b[0;34m)\u001b[0m\u001b[0;34m:\u001b[0m\u001b[0;34m\u001b[0m\u001b[0;34m\u001b[0m\u001b[0m\n\u001b[0;32m----> 3\u001b[0;31m     \u001b[0;32mwith\u001b[0m \u001b[0mopen\u001b[0m\u001b[0;34m(\u001b[0m\u001b[0mfile_path\u001b[0m\u001b[0;34m,\u001b[0m \u001b[0;34m'r'\u001b[0m\u001b[0;34m)\u001b[0m \u001b[0;32mas\u001b[0m \u001b[0mfile\u001b[0m\u001b[0;34m:\u001b[0m\u001b[0;34m\u001b[0m\u001b[0;34m\u001b[0m\u001b[0m\n\u001b[0m\u001b[1;32m      4\u001b[0m         \u001b[0;32mfor\u001b[0m \u001b[0mline\u001b[0m \u001b[0;32min\u001b[0m \u001b[0mfile\u001b[0m\u001b[0;34m:\u001b[0m\u001b[0;34m\u001b[0m\u001b[0;34m\u001b[0m\u001b[0m\n\u001b[1;32m      5\u001b[0m             \u001b[0;32myield\u001b[0m \u001b[0mline\u001b[0m\u001b[0;34m.\u001b[0m\u001b[0mstrip\u001b[0m\u001b[0;34m(\u001b[0m\u001b[0;34m)\u001b[0m\u001b[0;34m\u001b[0m\u001b[0;34m\u001b[0m\u001b[0m\n",
            "\u001b[0;31mFileNotFoundError\u001b[0m: [Errno 2] No such file or directory: 'large_text_file.txt'"
          ]
        }
      ]
    },
    {
      "cell_type": "code",
      "source": [
        "#8.Use a lambda function in Python to sort a list of tuples based on the second element of each tuple.\n",
        "subject_marks = [('English', 88), ('Science', 90), ('Math', 97), ('social science', 82)]\n",
        "print(\"Original list of tuples\")\n",
        "print(subject_marks)\n",
        "subject_marks.sort(key=lambda x: x[1])\n",
        "print(\"\\nSorting the List of Tuples:\")\n",
        "print(subject_marks)"
      ],
      "metadata": {
        "colab": {
          "base_uri": "https://localhost:8080/"
        },
        "id": "OTkrTAZRxl2P",
        "outputId": "ba058e7c-7b80-4d43-d375-1c840eed5fae"
      },
      "execution_count": 30,
      "outputs": [
        {
          "output_type": "stream",
          "name": "stdout",
          "text": [
            "Original list of tuples\n",
            "[('English', 88), ('Science', 90), ('Math', 97), ('social science', 82)]\n",
            "\n",
            "Sorting the List of Tuples:\n",
            "[('social science', 82), ('English', 88), ('Science', 90), ('Math', 97)]\n"
          ]
        }
      ]
    },
    {
      "cell_type": "code",
      "source": [
        "#9.Write a Python program that uses `map()` to convert a list of temperatures from Celsius to Fahrenheit.\n",
        "temp = input(\"Input the temperature you like to convert? (e.g., 45F, 102C etc.) : \")\n",
        "\n",
        "# Extract the numerical part of the temperature and convert it to an integer\n",
        "degree = int(temp[:-1])\n",
        "\n",
        "# Extract the convention part of the temperature input (either 'C' or 'F')\n",
        "i_convention = temp[-1]\n",
        "\n",
        "# Check if the input convention is in uppercase 'C' (Celsius)\n",
        "if i_convention.upper() == \"C\":\n",
        "    # Convert the Celsius temperature to Fahrenheit\n",
        "    result = int(round((9 * degree) / 5 + 32))\n",
        "    o_convention = \"Fahrenheit\"  # Set the output convention as Fahrenheit\n",
        "# Check if the input convention is in uppercase 'F' (Fahrenheit)\n",
        "elif i_convention.upper() == \"F\":\n",
        "    # Convert the Fahrenheit temperature to Celsius\n",
        "    result = int(round((degree - 32) * 5 / 9))\n",
        "    o_convention = \"Celsius\"  # Set the output convention as Celsius\n",
        "else:\n",
        "    # If the input convention is neither 'C' nor 'F', print an error message and exit the program\n",
        "    print(\"Input proper convention.\")\n",
        "    quit()\n",
        "\n",
        "# Display the converted temperature in the specified output convention\n",
        "print(\"The temperature in\", o_convention, \"is\", result, \"degrees.\")"
      ],
      "metadata": {
        "colab": {
          "base_uri": "https://localhost:8080/"
        },
        "id": "FCzs8N25xlzx",
        "outputId": "75c3a85e-9674-4bec-9151-044819fe0f12"
      },
      "execution_count": 31,
      "outputs": [
        {
          "output_type": "stream",
          "name": "stdout",
          "text": [
            "Input the temperature you like to convert? (e.g., 45F, 102C etc.) : 23F\n",
            "The temperature in Celsius is -5 degrees.\n"
          ]
        }
      ]
    },
    {
      "cell_type": "code",
      "source": [
        "#10.Create a Python program that uses `filter()` to remove all the vowels from a given string.\n",
        "def remove_vowels(input_string):\n",
        "    vowels = \"aeiouAEIOU\"\n",
        "    result = ''.join(filter(lambda char: char not in vowels, input_string))\n",
        "    return result\n",
        "input_string = \"Hello, World!\"\n",
        "output_string = remove_vowels(input_string)\n",
        "print(output_string)"
      ],
      "metadata": {
        "colab": {
          "base_uri": "https://localhost:8080/"
        },
        "id": "Fr_2v9hyxlmX",
        "outputId": "85ece245-40d9-4bf0-b5ba-d539e14bbf35"
      },
      "execution_count": 33,
      "outputs": [
        {
          "output_type": "stream",
          "name": "stdout",
          "text": [
            "Hll, Wrld!\n"
          ]
        }
      ]
    }
  ]
}
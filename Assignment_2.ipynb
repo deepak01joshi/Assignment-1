{
  "nbformat": 4,
  "nbformat_minor": 0,
  "metadata": {
    "colab": {
      "provenance": []
    },
    "kernelspec": {
      "name": "python3",
      "display_name": "Python 3"
    },
    "language_info": {
      "name": "python"
    }
  },
  "cells": [
    {
      "cell_type": "markdown",
      "source": [
        "1.What are data structures, and why are they important?\n",
        "  >>Answer: Data structure is provide a way to organize Data in the memory.It is very important to store data in a organized way and allows to store in unique ways."
      ],
      "metadata": {
        "id": "l7dghYJQEkjh"
      }
    },
    {
      "cell_type": "markdown",
      "source": [
        "2.Explain the difference between mutable and immutable data types with examples?\n",
        ">>Answer:Mutable data types are those whose values can be changed, whereas immutable data types are ones in which the values can’t be changed.\n",
        "Mutable data types\n",
        "Examples: Lists, dictionaries, and sets\n",
        "What you can do: You can add, remove, or update their properties or elements\n",
        "Immutable data types\n",
        "Examples: Strings, tuples, integers, and floats\n",
        "What you can do: You cannot change their values or properties directly"
      ],
      "metadata": {
        "id": "Ahqv9CmjKog2"
      }
    },
    {
      "cell_type": "markdown",
      "source": [
        "3.What are the main differences between lists and tuples in Python?\n",
        ">>Answer:As tuples are stored in a single memory block therefore they don’t require extra space for new objects whereas the lists are allocated in two blocks, first the fixed one with all the Python object information and second a variable-sized block for the data."
      ],
      "metadata": {
        "id": "Q6ioNKhuDQUZ"
      }
    },
    {
      "cell_type": "markdown",
      "source": [
        "4.Describe how dictionaries store data?\n",
        ">>Answer: A Python dictionary is a data structure that stores the value in key: value pairs. Values in a dictionary can be of any data type and can be duplicated, whereas keys can’t be repeated and must be immutable.\n",
        "\n",
        "Example: Here, The data is stored in key:value pairs in dictionaries, which makes it easier to find values."
      ],
      "metadata": {
        "id": "KZDK_Nx6EFse"
      }
    },
    {
      "cell_type": "markdown",
      "source": [
        "5.Why might you use a set instead of a list in Python?\n",
        ">>Answer:Because sets cannot have multiple occurrences of the same element, it makes sets highly useful to efficiently remove duplicate values from a list or tuple and to perform common math operations like unions and intersections."
      ],
      "metadata": {
        "id": "8bkKXVcwEeFU"
      }
    },
    {
      "cell_type": "markdown",
      "source": [
        "6.What is a string in Python, and how is it different from a list?\n",
        ">>Answer:A string is a sequence of characters between single or double quotes. A list is a sequence of items, where each item could be anything (an integer, a float, a string, etc)."
      ],
      "metadata": {
        "id": "1FfEi2b8E1y7"
      }
    },
    {
      "cell_type": "markdown",
      "source": [
        "7. How do tuples ensure data integrity in Python?\n",
        ">>Answer: Tuples Integrity: By using tuples to represent fixed collections of data (e.g., coordinates, RGB color values, etc.), you can indicate that the data is meant to be constant, helping developers understand that these values should not change.\n",
        "\n"
      ],
      "metadata": {
        "id": "OLvVefRQhSED"
      }
    },
    {
      "cell_type": "markdown",
      "source": [
        "8. What is a hash table, and how does it relate to dictionaries in Python?\n",
        ">>Answer: A hash table is a data structure that stores key-value pairs and provides efficient lookup, insertion, and deletion operations. It works by using a hash function to compute an index (also called a \"hash\") based on the key. This index points to a specific location in the underlying array (or table), where the associated value is stored."
      ],
      "metadata": {
        "id": "NjfsGrhLidev"
      }
    },
    {
      "cell_type": "markdown",
      "source": [
        "9. Can lists contain different data types in Python?\n",
        ">>Answer: Yes, lists in Python can contain elements of different data types. A Python list is an ordered collection that can store items of any type, such as integers, strings, floats, other lists, or even more complex objects like dictionaries or custom objects. This flexibility makes lists very versatile and powerful.\n",
        ">>\n",
        "\n",
        "\n",
        "*  Lists in Python are heterogeneous: They can contain elements of any\n",
        "combination of data types.\n",
        "*   Lists can also contain nested lists, allowing complex structures (lists within lists).\n",
        "The order of elements in the list is preserved, regardless of the data types.\n"
      ],
      "metadata": {
        "id": "aXV5G-5Wi1KY"
      }
    },
    {
      "cell_type": "markdown",
      "source": [
        "10. Explain why strings are immutable in Python?\n",
        ">>Answer: Strings in Python are “immutable” which means they can not be changed after they are created."
      ],
      "metadata": {
        "id": "bSfBScW7jh_G"
      }
    },
    {
      "cell_type": "markdown",
      "source": [
        "11.What advantages do dictionaries offer over lists for certain tasks?\n",
        ">>Answer: Dictionaries in Python offer several advantages over lists, especially when dealing with tasks that involve mapping or associating data with unique keys.\n",
        "\n",
        ">>Dictionaries: Accessing values using a key in a dictionary is typically very fast, with an average time complexity of O(1) (constant time). This is because the dictionary uses a hash table internally, allowing direct access to the value based on the key.\n",
        "\n",
        ">>Lists: To access a value in a list, you need to use the index or search through the list (if you're looking for a value, not by index), which generally takes O(n) time, where n is the number of elements in the list."
      ],
      "metadata": {
        "id": "NgejRYegkCx8"
      }
    },
    {
      "cell_type": "markdown",
      "source": [
        "12.Describe a scenario where using a tuple would be preferable over a list?\n",
        ">>Answer: Tuples are faster than lists. If you're defining a constant set of values and all you're ever going to do with it is iterate through it, use a tuple instead of a list.\n",
        "\n",
        "It makes your code safer if you “write-protect” data that does not need to be changed. Using a tuple instead of a list is like having an implied assert statement that this data is constant, and that special thought (and a specific function) is required to override that.\n",
        "\n",
        "Some tuples can be used as dictionary keys (specifically, tuples that contain immutable values like strings, numbers, and other tuples). Lists can never be used as dictionary keys, because lists are mutable."
      ],
      "metadata": {
        "id": "OfMmTjrYk3sN"
      }
    },
    {
      "cell_type": "markdown",
      "source": [
        "13. How do sets handle duplicate values in Python?\n",
        ">>Answer:Suppose you have a list of items with duplicates, and you need to filter out the duplicates to analyze how many distinct elements exist:\n",
        "\n",
        "\n",
        "# List of items with duplicates\n",
        "items = [\"apple\", \"banana\", \"apple\", \"orange\", \"banana\", \"pear\"]\n",
        "\n",
        "# Remove duplicates using a set\n",
        "unique_items = list(set(items))\n",
        "print(unique_items)\n"
      ],
      "metadata": {
        "id": "uILyEXltlXCT"
      }
    },
    {
      "cell_type": "markdown",
      "source": [
        "14.How does the “in” keyword work differently for lists and dictionaries?\n",
        ">>Answer:The in keyword in Python is used to check for the presence of an element within a collection, such as a list, dictionary, or set. However, it behaves differently when used with lists and dictionaries due to the structure of these two types of collections.\n",
        "\n",
        "1. Using in with Lists:\n",
        "When the in keyword is used with a list, it checks whether a specific value is present in the list.\n",
        "\n",
        "2. Using in with Dictionaries:\n",
        "When the in keyword is used with a dictionary, it checks whether a key is present in the dictionary, not the value.\n",
        "\n",
        "\n"
      ],
      "metadata": {
        "id": "ebaRaY-zmcmV"
      }
    },
    {
      "cell_type": "markdown",
      "source": [
        "15.Can you modify the elements of a tuple? Explain why or why not?\n",
        ">>Answer: No, We can't modify the elements of a tuple. Because tuples are immutable once we have defied the tuple. it can't get change."
      ],
      "metadata": {
        "id": "_rVUEiJCnOJF"
      }
    },
    {
      "cell_type": "markdown",
      "source": [
        "16.What is a nested dictionary, and give an example of its use case?\n",
        ">>Answer:A nested dictionary in Python is a dictionary where the values associated with keys are themselves dictionaries. This allows you to create more complex data structures where dictionaries can contain other dictionaries, enabling a hierarchical organization of data.\n",
        "\n",
        ">>Structure:\n",
        "A nested dictionary can be viewed as a dictionary of dictionaries. Each key in the outer dictionary maps to another dictionary (which can itself have keys and values)."
      ],
      "metadata": {
        "id": "QjE0hJA3n51d"
      }
    },
    {
      "cell_type": "markdown",
      "source": [
        "17. Describe the time complexity of accessing elements in a dictionary?\n",
        ">>Answer:Accessing Elements by Key (O(1))\n",
        "The time complexity of retrieving a value by its key in a dictionary is O(1). This is because dictionaries use a hash table internally which allows constant time lookup.\n",
        "\n",
        "Example:\n",
        "# Create a dictionary\n",
        "dict = {'a': 1, 'b': 2, 'c': 3}\n",
        "# Access value by key\n",
        "val = dict['b']\n",
        "print(val)"
      ],
      "metadata": {
        "id": "7V0gbEk4oaj7"
      }
    },
    {
      "cell_type": "markdown",
      "source": [
        "18. In what situations are lists preferred over dictionaries?\n",
        ">>Answer:Lists: Lists maintain the order of elements, meaning the order in which you add elements is preserved. If you need to keep elements in a specific sequence (such as for iteration, sorting, or displaying), lists are the natural choice.\n",
        "Dictionaries: Although dictionaries maintain insertion order as of Python 3.7+, they are designed for key-value mapping, not ordered collections. If order is not central to your task (other than key-value associations), dictionaries are overkill."
      ],
      "metadata": {
        "id": "1FdwGBnko6eO"
      }
    },
    {
      "cell_type": "markdown",
      "source": [
        "19.Why are dictionaries considered unordered, and how does that affect data retrieva?\n",
        ">>Answer: Dictionaries in Python are often referred to as unordered because, before Python 3.7, the order of key-value pairs in a dictionary was not guaranteed to be preserved. This means that when you created a dictionary, the order in which you inserted items was not necessarily the order in which they were stored or retrieved. In other words, dictionaries did not maintain any inherent order between the keys.\n",
        ">>Early Python Versions: In earlier versions of Python (before 3.6), dictionaries did not guarantee the order of the keys. They were implemented using hash tables, and the internal structure of a hash table does not preserve the order of insertion. The main focus was on efficient lookups by key, not on maintaining order.\n",
        "The hash table implementation used a hashing function to determine where each key-value pair should be stored, and this process did not take the order of insertion into account.\n",
        ">>Unpredictable Order: In versions before Python 3.7, retrieving or iterating through the items of a dictionary could give results in an order different from the one in which the items were inserted. You could not rely on the order of the dictionary to remain consistent.\n",
        "Data Retrieval by Key: Regardless of the insertion order, you could still retrieve data by key in constant time (O(1)), which is the primary strength of dictionaries. You would access values using their unique keys, not by their position."
      ],
      "metadata": {
        "id": "9M_ARG_Rpjrv"
      }
    },
    {
      "cell_type": "markdown",
      "source": [
        "20. Explain the difference between a list and a dictionary in terms of data retrieval.?\n",
        ">>Answer: The main difference between a list and a dictionary in terms of data retrieval lies in how data is stored and accessed. Let's break it down:\n",
        "\n",
        "\n",
        "*   Data Structure\n",
        "List:\n",
        "A list is an ordered collection of items, and elements are stored in a specific sequence.\n",
        "Each element in a list has an index (an integer position) that starts from 0 for the first element.\n",
        "The list allows duplicate values, meaning the same element can appear multiple times at different positions.\n",
        "Dictionary:\n",
        "A dictionary is an unordered collection of key-value pairs.\n",
        "Each item in a dictionary consists of a key (a unique identifier) and an associated value.\n",
        "Keys in a dictionary are unique, meaning no two entries can have the same key. Values, on the other hand, can be duplicates.\n",
        " Data Retrieval by Index/Key\n",
        "\n",
        "* List:Data : retrieval in a list is done by index. You access an element using its position (integer index) in the list.\n",
        "Time Complexity: Retrieving an element by index is O(1) (constant time), but finding an element by value (if you don't know the index) requires searching the list, which has a time complexity of O(n) (linear time)."
      ],
      "metadata": {
        "id": "usE6ZUbPqX0-"
      }
    },
    {
      "cell_type": "markdown",
      "source": [
        "# Practical **Answers**"
      ],
      "metadata": {
        "id": "qhpFniaKrdIC"
      }
    },
    {
      "cell_type": "code",
      "source": [
        "#1.Write a code to create a string with your name and print it.\n",
        "name = \"deepak\"\n",
        "print(name)"
      ],
      "metadata": {
        "colab": {
          "base_uri": "https://localhost:8080/"
        },
        "id": "2hTo3hiFrn50",
        "outputId": "a5ed2f7c-5870-40ad-b1d1-a725e061dfa7"
      },
      "execution_count": 4,
      "outputs": [
        {
          "output_type": "stream",
          "name": "stdout",
          "text": [
            "deepak\n"
          ]
        }
      ]
    },
    {
      "cell_type": "code",
      "source": [
        "#2.Write a code to find the length of the string \"Hello World\".\n",
        "my_string = \"Hello World\"\n",
        "lenght = len(my_string)\n",
        "print(lenght)"
      ],
      "metadata": {
        "colab": {
          "base_uri": "https://localhost:8080/"
        },
        "id": "m5FFPV8osQ3x",
        "outputId": "c3d3e249-a596-4bc8-a3e5-bc277f7de058"
      },
      "execution_count": 6,
      "outputs": [
        {
          "output_type": "stream",
          "name": "stdout",
          "text": [
            "11\n"
          ]
        }
      ]
    },
    {
      "cell_type": "code",
      "source": [
        "#3.Write a code to slice the first 3 characters from the string \"Python Programming\".\n",
        "my_string = \"Hello world\"\n",
        "sliced_string = my_string[:3]\n",
        "print(sliced_string)"
      ],
      "metadata": {
        "colab": {
          "base_uri": "https://localhost:8080/"
        },
        "id": "mG7SIq-bszgt",
        "outputId": "7200a285-76b6-4f4e-de86-3d3ac291fcee"
      },
      "execution_count": 7,
      "outputs": [
        {
          "output_type": "stream",
          "name": "stdout",
          "text": [
            "Hel\n"
          ]
        }
      ]
    },
    {
      "cell_type": "code",
      "source": [
        "#4.Write a code to convert the string \"hello\" to uppercase.\n",
        "my_string = \"hello\"\n",
        "uppercase = my_string.upper()\n",
        "print(uppercase)"
      ],
      "metadata": {
        "colab": {
          "base_uri": "https://localhost:8080/"
        },
        "id": "6w8j66DFtG9h",
        "outputId": "dc7b8135-0ecf-4c9a-fe86-2e114289f65f"
      },
      "execution_count": 8,
      "outputs": [
        {
          "output_type": "stream",
          "name": "stdout",
          "text": [
            "HELLO\n"
          ]
        }
      ]
    },
    {
      "cell_type": "code",
      "source": [
        "#5.Write a code to replace the word \"apple\" with \"orange\" in the string \"I like apple\".\n",
        "my_string = \"I like apple\"\n",
        "new_string = my_string.replace(\"apple\",\"orange\")\n",
        "print(new_string)"
      ],
      "metadata": {
        "colab": {
          "base_uri": "https://localhost:8080/"
        },
        "id": "F-na7fcCtjYl",
        "outputId": "1aa77879-9c52-40bc-a49e-c7d345400cb4"
      },
      "execution_count": 9,
      "outputs": [
        {
          "output_type": "stream",
          "name": "stdout",
          "text": [
            "I like orange\n"
          ]
        }
      ]
    },
    {
      "cell_type": "code",
      "source": [
        "#6. Write a code to create a list with numbers 1 to 5 and print it.\n",
        "my_list = [1,5]\n",
        "print(my_list)"
      ],
      "metadata": {
        "colab": {
          "base_uri": "https://localhost:8080/"
        },
        "id": "jH5LtLkf_yVM",
        "outputId": "7ed6a869-8651-4071-c3fe-9f57ed4ca0ba"
      },
      "execution_count": 1,
      "outputs": [
        {
          "output_type": "stream",
          "name": "stdout",
          "text": [
            "[1, 5]\n"
          ]
        }
      ]
    },
    {
      "cell_type": "code",
      "source": [
        "#7.  Write a code to append the number 10 to the list [1, 2, 3, 4].\n",
        "my_list = [1,2,3,4]\n",
        "my_list.append(10)\n",
        "print(my_list)"
      ],
      "metadata": {
        "colab": {
          "base_uri": "https://localhost:8080/"
        },
        "id": "vGhYWyzmADaZ",
        "outputId": "a962e147-15ed-4e70-f255-89cf0d6fb976"
      },
      "execution_count": 2,
      "outputs": [
        {
          "output_type": "stream",
          "name": "stdout",
          "text": [
            "[1, 2, 3, 4, 10]\n"
          ]
        }
      ]
    },
    {
      "cell_type": "code",
      "source": [
        "#8. Write a code to remove the number 3 from the list [1, 2, 3, 4, 5].\n",
        "my_list = [1,2,3,4,5]\n",
        "my_list.remove(3)\n",
        "print(my_list)\n",
        ""
      ],
      "metadata": {
        "colab": {
          "base_uri": "https://localhost:8080/"
        },
        "id": "Nkx0P0NTAd06",
        "outputId": "f382c565-cd6b-413a-9663-c9e751f535dc"
      },
      "execution_count": 4,
      "outputs": [
        {
          "output_type": "stream",
          "name": "stdout",
          "text": [
            "[1, 2, 4, 5]\n"
          ]
        }
      ]
    },
    {
      "cell_type": "code",
      "source": [
        "#9.Write a code to access the second element in the list ['a', 'b', 'c', 'd'].\n",
        "my_list = ['a', 'b', 'c', 'd']\n",
        "my_list[1]"
      ],
      "metadata": {
        "colab": {
          "base_uri": "https://localhost:8080/",
          "height": 35
        },
        "id": "wcGmyu3QBoS-",
        "outputId": "c9ff8716-b442-4829-f4e6-933b0cf006ea"
      },
      "execution_count": 5,
      "outputs": [
        {
          "output_type": "execute_result",
          "data": {
            "text/plain": [
              "'b'"
            ],
            "application/vnd.google.colaboratory.intrinsic+json": {
              "type": "string"
            }
          },
          "metadata": {},
          "execution_count": 5
        }
      ]
    },
    {
      "cell_type": "code",
      "source": [
        "#10.Write a code to reverse the list [10, 20, 30, 40, 50].\n",
        "my_list = [10,20,30,40,50]\n",
        "my_list.reverse()\n",
        "print(my_list)"
      ],
      "metadata": {
        "colab": {
          "base_uri": "https://localhost:8080/"
        },
        "id": "yt89NpF0B7Jl",
        "outputId": "2f686928-ccf9-4b03-bbe9-2a6ea33b0ef5"
      },
      "execution_count": 8,
      "outputs": [
        {
          "output_type": "stream",
          "name": "stdout",
          "text": [
            "[50, 40, 30, 20, 10]\n"
          ]
        }
      ]
    },
    {
      "cell_type": "code",
      "source": [
        "#11.Write a code to create a tuple with the elements 10, 20, 30 and print it.\n",
        "my_list = (10,20,30)\n",
        "my_list\n"
      ],
      "metadata": {
        "colab": {
          "base_uri": "https://localhost:8080/"
        },
        "id": "uMiBpXrSCR43",
        "outputId": "6cb7902d-ec32-41d9-8d3f-85bd1ad1cb75"
      },
      "execution_count": 9,
      "outputs": [
        {
          "output_type": "execute_result",
          "data": {
            "text/plain": [
              "(10, 20, 30)"
            ]
          },
          "metadata": {},
          "execution_count": 9
        }
      ]
    },
    {
      "cell_type": "code",
      "source": [
        "#12.Write a code to access the first element of the tuple ('apple', 'banana', 'cherry').\n",
        "my_tuple = ('apple', 'banana', 'cherry')\n",
        "my_tuple[0]"
      ],
      "metadata": {
        "colab": {
          "base_uri": "https://localhost:8080/",
          "height": 35
        },
        "id": "nYpxAQg0CgIj",
        "outputId": "7692d4b4-d773-4c88-9a9c-95d4aa3235c2"
      },
      "execution_count": 10,
      "outputs": [
        {
          "output_type": "execute_result",
          "data": {
            "text/plain": [
              "'apple'"
            ],
            "application/vnd.google.colaboratory.intrinsic+json": {
              "type": "string"
            }
          },
          "metadata": {},
          "execution_count": 10
        }
      ]
    },
    {
      "cell_type": "code",
      "source": [
        "#13.Write a code to count how many times the number 2 appears in the tuple (1, 2, 3, 2, 4, 2).\n",
        "my_tuple = (1,2,3,2,4,2)\n",
        "count = my_tuple.count(2)\n",
        "print(count)"
      ],
      "metadata": {
        "colab": {
          "base_uri": "https://localhost:8080/"
        },
        "id": "rC2OO79hCyMW",
        "outputId": "6b8ecd37-9ce0-4cb6-9839-a24f88f39af7"
      },
      "execution_count": 12,
      "outputs": [
        {
          "output_type": "stream",
          "name": "stdout",
          "text": [
            "3\n"
          ]
        }
      ]
    },
    {
      "cell_type": "code",
      "source": [
        "#14.Write a code to find the index of the element \"cat\" in the tuple ('dog', 'cat', 'rabbit').\n",
        "my_list = ('dog', 'cat', 'rabbit')\n",
        "index = my_list.index('dog')\n",
        "print(index)"
      ],
      "metadata": {
        "colab": {
          "base_uri": "https://localhost:8080/"
        },
        "id": "cY54tVglDSwL",
        "outputId": "4ca6d1d9-72bd-47d0-b4f6-f54f0e9260e2"
      },
      "execution_count": 13,
      "outputs": [
        {
          "output_type": "stream",
          "name": "stdout",
          "text": [
            "0\n"
          ]
        }
      ]
    },
    {
      "cell_type": "code",
      "source": [
        "#15.Write a code to check if the element \"banana\" is in the tuple ('apple', 'orange', 'banana').\n",
        "my_tuple = ('apple', 'orange', 'banana')\n",
        "if 'banana' in my_tuple:\n",
        "  print('Banana is available in tuple')\n",
        "else:\n",
        "  print('banana is not available in tuple')"
      ],
      "metadata": {
        "colab": {
          "base_uri": "https://localhost:8080/"
        },
        "id": "l0drWqXpDrzb",
        "outputId": "96c370eb-bff8-4679-8692-cba302e03c80"
      },
      "execution_count": 14,
      "outputs": [
        {
          "output_type": "stream",
          "name": "stdout",
          "text": [
            "Banana is available in tuple\n"
          ]
        }
      ]
    },
    {
      "cell_type": "code",
      "source": [
        "#16.Write a code to create a set with the elements 1, 2, 3, 4, 5 and print it.\n",
        "my_set = {1,2,3,4,5}\n",
        "print(my_set)"
      ],
      "metadata": {
        "colab": {
          "base_uri": "https://localhost:8080/"
        },
        "id": "ET7fXnTIEh_1",
        "outputId": "3a783cc1-cad0-4f4b-f405-33775032d1f3"
      },
      "execution_count": 15,
      "outputs": [
        {
          "output_type": "stream",
          "name": "stdout",
          "text": [
            "{1, 2, 3, 4, 5}\n"
          ]
        }
      ]
    },
    {
      "cell_type": "code",
      "source": [
        "#17.Write a code to add the element 6 to the set {1, 2, 3, 4}.\n",
        "my_set = {1,2,3,4}\n",
        "my_set.add(6)\n",
        "print(my_set)\n"
      ],
      "metadata": {
        "colab": {
          "base_uri": "https://localhost:8080/"
        },
        "id": "E3HlxBQKEvq9",
        "outputId": "8451eeef-e862-4e93-f613-ea2382149dc1"
      },
      "execution_count": 17,
      "outputs": [
        {
          "output_type": "stream",
          "name": "stdout",
          "text": [
            "{1, 2, 3, 4, 6}\n"
          ]
        }
      ]
    },
    {
      "cell_type": "code",
      "source": [
        "#18.Write a code to create a tuple with the elements 10, 20, 30 and print it.\n",
        "my_tuple = (10,20,30)\n",
        "my_tuple"
      ],
      "metadata": {
        "colab": {
          "base_uri": "https://localhost:8080/"
        },
        "id": "R46Wprf-FJkH",
        "outputId": "23db3c75-6451-4265-896f-336f350328db"
      },
      "execution_count": 18,
      "outputs": [
        {
          "output_type": "execute_result",
          "data": {
            "text/plain": [
              "(10, 20, 30)"
            ]
          },
          "metadata": {},
          "execution_count": 18
        }
      ]
    },
    {
      "cell_type": "code",
      "source": [
        "#19. Write a code to access the first element of the tuple ('apple', 'banana', 'cherry').\n",
        "my_tuple = ('apple', 'banana', 'cherry')\n",
        "my_tuple[0]\n"
      ],
      "metadata": {
        "colab": {
          "base_uri": "https://localhost:8080/",
          "height": 35
        },
        "id": "NkxAWQl4FXB1",
        "outputId": "f9108018-b290-4b4c-db92-f3cf5f299d3d"
      },
      "execution_count": 19,
      "outputs": [
        {
          "output_type": "execute_result",
          "data": {
            "text/plain": [
              "'apple'"
            ],
            "application/vnd.google.colaboratory.intrinsic+json": {
              "type": "string"
            }
          },
          "metadata": {},
          "execution_count": 19
        }
      ]
    },
    {
      "cell_type": "code",
      "source": [
        "#20.Write a code to count how many times the number 2 appears in the tuple (1, 2, 3, 2, 4, 2).\n",
        "my_tuple = (1,2,3,2,4,2)\n",
        "count = my_tuple.count(2)\n",
        "print(count)"
      ],
      "metadata": {
        "colab": {
          "base_uri": "https://localhost:8080/"
        },
        "id": "9B4wQQQTFlGN",
        "outputId": "8ec719ce-4812-4030-ddcc-b7fc26e90251"
      },
      "execution_count": 20,
      "outputs": [
        {
          "output_type": "stream",
          "name": "stdout",
          "text": [
            "3\n"
          ]
        }
      ]
    },
    {
      "cell_type": "code",
      "source": [
        "#21.Write a code to find the index of the element \"cat\" in the tuple ('dog', 'cat', 'rabbit').\n",
        "my_tuple = ('dog', 'cat', 'rabbit')\n",
        "index = my_tuple.index('cat')\n",
        "print(index)"
      ],
      "metadata": {
        "colab": {
          "base_uri": "https://localhost:8080/"
        },
        "id": "vpRLoZZuF3qu",
        "outputId": "46b3c016-3d84-432b-b416-35ab649474bd"
      },
      "execution_count": 21,
      "outputs": [
        {
          "output_type": "stream",
          "name": "stdout",
          "text": [
            "1\n"
          ]
        }
      ]
    },
    {
      "cell_type": "code",
      "source": [
        "#22. Write a code to check if the element \"banana\" is in the tuple ('apple', 'orange', 'banana').\n",
        "my_tuple = ('apple', 'orange', 'banana')\n",
        "if 'banana' in my_tuple:\n",
        "  print(\"Banana is available in tuple\")\n",
        "else:\n",
        "  print(\"banana is not available in tuple\")"
      ],
      "metadata": {
        "colab": {
          "base_uri": "https://localhost:8080/"
        },
        "id": "a3iTRdFaGPVi",
        "outputId": "c40065a4-4868-42d7-8e21-6007248df4fe"
      },
      "execution_count": 22,
      "outputs": [
        {
          "output_type": "stream",
          "name": "stdout",
          "text": [
            "Banana is available in tuple\n"
          ]
        }
      ]
    },
    {
      "cell_type": "code",
      "source": [
        "#23. Write a code to create a set with the elements 1, 2, 3, 4, 5 and print it.\n",
        "my_set = {1,2,3,4,5}\n",
        "my_set"
      ],
      "metadata": {
        "colab": {
          "base_uri": "https://localhost:8080/"
        },
        "id": "1u6cId6bGrka",
        "outputId": "c3ab2d36-a1e4-4d15-ab73-443c6b088f5c"
      },
      "execution_count": 23,
      "outputs": [
        {
          "output_type": "execute_result",
          "data": {
            "text/plain": [
              "{1, 2, 3, 4, 5}"
            ]
          },
          "metadata": {},
          "execution_count": 23
        }
      ]
    },
    {
      "cell_type": "code",
      "source": [
        "#24. Write a code to add the element 6 to the set {1, 2, 3, 4}.\n",
        "my_set = {1,2,3,4}\n",
        "my_set.add(6)\n",
        "print(my_set)"
      ],
      "metadata": {
        "colab": {
          "base_uri": "https://localhost:8080/"
        },
        "id": "miorAKiZGqtN",
        "outputId": "1ff3081a-d022-4e7d-841a-17de71015520"
      },
      "execution_count": 24,
      "outputs": [
        {
          "output_type": "stream",
          "name": "stdout",
          "text": [
            "{1, 2, 3, 4, 6}\n"
          ]
        }
      ]
    }
  ]
}
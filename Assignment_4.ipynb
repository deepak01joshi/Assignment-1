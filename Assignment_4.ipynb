{
  "nbformat": 4,
  "nbformat_minor": 0,
  "metadata": {
    "colab": {
      "provenance": []
    },
    "kernelspec": {
      "name": "python3",
      "display_name": "Python 3"
    },
    "language_info": {
      "name": "python"
    }
  },
  "cells": [
    {
      "cell_type": "markdown",
      "source": [
        "1.What is Object-Oriented Programming (OOP)?\n",
        ">>Answer:The word object-oriented is the combination of two words i.e. object and oriented. The dictionary meaning of the object is an article or entity that exists in the real world. The meaning of oriented is interested in a particular kind of thing or entity. In layman's terms, it is a programming pattern that rounds around an object or entity are called object-oriented programming."
      ],
      "metadata": {
        "id": "4grxqvRLmUyj"
      }
    },
    {
      "cell_type": "markdown",
      "source": [
        "2.What is a class in OOP?\n",
        ">>Answer : A class is a user-defined data type. It consists of data members and member functions, which can be accessed and used by creating an instance of that class. It represents the set of properties or methods that are common to all objects of one type. A class is like a blueprint for an object.  "
      ],
      "metadata": {
        "id": "YOxI4EocmnTb"
      }
    },
    {
      "cell_type": "markdown",
      "source": [
        "3.What is an object in OOP?\n",
        ">>Answer : It is a basic unit of Object-Oriented Programming and represents the real-life entities. An Object is an instance of a Class. When a class is defined, no memory is allocated but when it is instantiated (i.e. an object is created) memory is allocated. An object has an identity, state, and behavior. Each object contains data and code to manipulate the data. Objects can interact without having to know details of each other’s data or code, it is sufficient to know the type of message accepted and type of response returned by the objects.\n",
        "\n",
        "For example “Dog” is a real-life Object, which has some characteristics like color, Breed, Bark, Sleep, and Eats."
      ],
      "metadata": {
        "id": "iablMaOsnNWz"
      }
    },
    {
      "cell_type": "markdown",
      "source": [
        "4.What is the difference between abstraction and encapsulation?\n",
        ">>Answer:Encapsulation is the concept of bundling data (attributes) and methods (functions) that operate on that data into a single unit, known as a class. Direct access to some components of an object is restricted while controlled access is provided through methods. Objects should be designed to hide the internal implementation details and expose only what is needed to interact with them from the outside.\n",
        ">>Abstraction, on the other hand, is the process of simplifying complex reality by modeling classes based on essential properties and behaviors. It allows you to represent essential features of an object while hiding unnecessary details. It helps manage complexity by separating what an object does (methods) from how it achieves it (implementation details).\n"
      ],
      "metadata": {
        "id": "PTTCnUvGn51K"
      }
    },
    {
      "cell_type": "markdown",
      "source": [
        "5.What are dunder methods in Python?\n",
        ">>Answer:Python Magic methods are the methods starting and ending with double underscores ‘__’. They are defined by built-in classes in Python and commonly used for operator overloading.\n",
        "\n",
        "They are also called Dunder methods, Dunder here means “Double Under (Underscores)”."
      ],
      "metadata": {
        "id": "53IHzaT1oS9j"
      }
    },
    {
      "cell_type": "markdown",
      "source": [
        "6.Explain the concept of inheritance in OOP?\n",
        ">>Answer:Inheritance is a relationship between classes where one class, known as the child or derived class, inherits the properties and methods of another class, known as the parent or base class. The child class extends the parent class, allowing it to inherit the members (fields, properties, and methods) defined in the parent class.\n",
        "\n",
        "Inheritance creates an \"is-a\" relationship, meaning the child class is a specialised version of the parent class. It enables the child class to reuse and extend the behaviour of the parent class, while adding its own unique features."
      ],
      "metadata": {
        "id": "LXpoxfeAoTbz"
      }
    },
    {
      "cell_type": "markdown",
      "source": [
        "7.What is polymorphism in OOP?\n",
        ">>Answer:Polymorphism allows a subclass to use a method that is inherited from the superclass and to change it to meet the needs of the subclass.\n"
      ],
      "metadata": {
        "id": "EIT_pjF_oT2Y"
      }
    },
    {
      "cell_type": "markdown",
      "source": [
        "8.How is encapsulation achieved in Python?\n",
        ">>Answer : Encapsulation is the process of hiding the internal state of an object and requiring all interactions to be performed through an object’s methods. This approach:\n",
        "\n",
        "Provides better control over data.\n",
        "Prevents accidental modification of data.\n",
        "Promotes modular programming.\n",
        "Python achieves encapsulation through public, protected and private attributes."
      ],
      "metadata": {
        "id": "tJME-9TaoUTF"
      }
    },
    {
      "cell_type": "markdown",
      "source": [
        "9.What is a constructor in Python?\n",
        ">>Answer: n Python, a constructor is a special method that is called automatically when an object is created from a class. Its main role is to initialize the object by setting up its attributes or state.\n",
        "\n",
        "The method __new__ is the constructor that creates a new instance of the class while __init__ is the initializer that sets up the instance’s attributes after creation. These methods work together to manage object creation and initialization."
      ],
      "metadata": {
        "id": "PkGR15F3vNx9"
      }
    },
    {
      "cell_type": "markdown",
      "source": [
        "10.What are class and static methods in Python?\n",
        ">>Answer : Class methods are associated with the class rather than instances. They are defined using the @classmethod decorator and take the class itself as the first parameter, usually named cls. Class methods are useful for tasks that involve the class rather than the instance, such as creating class-specific behaviors or modifying class-level attributes.\n",
        ">>Static methods, as the name suggests, are not bound to either the class or its instances. They are defined using the @staticmethod decorator and do not take a reference to the instance or the class as their first parameter. Static methods are essentially regular functions within the class namespace and are useful for tasks that do not depend on instance-specific or class-specific data."
      ],
      "metadata": {
        "id": "Gis3dTQIqpSO"
      }
    },
    {
      "cell_type": "markdown",
      "source": [
        "11.What is method overloading in Python?\n",
        ">>Answer: Two or more methods have the same name but different numbers of parameters or different types of parameters, or both. These methods are called overloaded methods and this is called method overloading."
      ],
      "metadata": {
        "id": "Cp7g8TpwrI--"
      }
    },
    {
      "cell_type": "markdown",
      "source": [
        "12.What is method overriding in OOP?\n",
        ">>Answer:Method overriding is an ability of any object-oriented programming language that allows a subclass or child class to provide a specific implementation of a method that is already provided by one of its super-classes or parent classes. When a method in a subclass has the same name, the same parameters or signature, and same return type(or sub-type) as a method in its super-class, then the method in the subclass is said to override the method in the super-class."
      ],
      "metadata": {
        "id": "vJRoAzQjrYQA"
      }
    },
    {
      "cell_type": "markdown",
      "source": [
        "13. What is a property decorator in Python?\n",
        ">>Answer:A decorator feature in Python wraps in a function, appends several functionalities to existing code and then returns it. Methods and functions are known to be callable as they can be called. Therefore, a decorator is also a callable that returns callable. This is also known as metaprogramming as at compile time a section of program alters another section of the program."
      ],
      "metadata": {
        "id": "vWNujANDrn6S"
      }
    },
    {
      "cell_type": "markdown",
      "source": [
        "14.Why is polymorphism important in OOP?\n",
        ">>Answer:Polymorphism in OOPs is one of the four important principles of object-oriented programming (OOP), which allows objects of different classes, objects, variables and methods to exist in different forms. With the help of polymorphism in oops, it is easy to represent one single form into various forms.\n",
        "\n",
        "There are two main types of polymorphism in object-oriented programming. These are compile-time polymorphism and Run-time polymorphism. Polymorphism allows flexibility and increases efficiency while designing software systems. We can add new classes easily with the help of polymorphism without modifying existing entities."
      ],
      "metadata": {
        "id": "QtCP-klAr2HW"
      }
    },
    {
      "cell_type": "markdown",
      "source": [
        "15.What is an abstract class in Python?\n",
        ">>Answer : An abstract class is a class that cannot be instantiated on its own and is designed to be a blueprint for other classes. Abstract classes allow us to define methods that must be implemented by subclasses, ensuring a consistent interface while still allowing the subclasses to provide specific implementation"
      ],
      "metadata": {
        "id": "BaXD_flKs7wZ"
      }
    },
    {
      "cell_type": "markdown",
      "source": [
        "16.What are the advantages of OOP?\n",
        ">>Answer : OOP stands for Object-Oriented Programming. As you can guess from it’s name it breaks the program on the basis of the objects in it. It mainly works on Class, Object, Polymorphism, Abstraction, Encapsulation and Inheritance. Its aim is to bind together the data and functions to operate on them."
      ],
      "metadata": {
        "id": "4voTlqiTtJNt"
      }
    },
    {
      "cell_type": "markdown",
      "source": [
        "17.What is the difference between a class variable and an instance variable?\n",
        ">>Answer:is basically a class variable without a static modifier and is usually shared by all class instances. Across different objects, these variables can have different values. They are tied to a particular object instance of the class, therefore, the contents of an instance variable are totally independent of one object instance to others."
      ],
      "metadata": {
        "id": "UkvMgZbUtUkz"
      }
    },
    {
      "cell_type": "markdown",
      "source": [
        "18.What is multiple inheritance in Python?\n",
        ">>Answer : When a class is derived from more than one base class it is called multiple Inheritance. The derived class inherits all the features of the base case."
      ],
      "metadata": {
        "id": "47YI1-8ztlJ4"
      }
    },
    {
      "cell_type": "markdown",
      "source": [
        "19.Explain the purpose of ‘’__str__’ and ‘__repr__’ ‘ methods in Python?\n",
        ">>Answer:In Python, the str() and repr() functions are used to obtain string representations of objects.\n",
        ">>The __str__ method is a special method in Python that defines a human-readable string representation of an object. It is called automatically when the object is printed or passed to the str() function.\n",
        "\n",
        ">>The __repr__ is also used to define a string representation of an object, typically for debugging or logging purposes. This method is called “repr” which stands for “representation”. It returns a string representation of an object that can be used to recreate the object.\n",
        "\n",
        "The __repr__ method is called when the repr() function is used on an object or when the object is printed in the Python REPL. The string returned by the __repr__ method should be a valid Python expression that, when evaluated, would create an object identical to the original object."
      ],
      "metadata": {
        "id": "2mO7cxjetz4q"
      }
    },
    {
      "cell_type": "markdown",
      "source": [
        "20.What is the significance of the ‘super()’ function in Python?\n",
        ">>Answer : The super() function is used to give access to methods and properties of a parent or sibling class.The super() function returns an object that represents the parent class."
      ],
      "metadata": {
        "id": "gcis3KP-utgX"
      }
    },
    {
      "cell_type": "markdown",
      "source": [
        "21.What is the significance of the __del__ method in Python?\n",
        ">>Answer : The __del__ method is a special method in Python that is called when an object is about to be destroyed. It allows you to define specific cleanup actions that should be taken when an object is garbage collected. This method can be particularly useful for releasing external resources such as file handles, network connections, or database connections that the object may hold."
      ],
      "metadata": {
        "id": "UdLQa7RYvmDw"
      }
    },
    {
      "cell_type": "markdown",
      "source": [
        "22. What is the difference between @staticmethod and @classmethod in Python?\n",
        ">>Answer: The @classmethod decorator is a built-in function decorator that is an expression that gets evaluated after your function is defined. The result of that evaluation shadows your function definition. A class method receives the class as an implicit first argument, just like an instance method receives the instance A static method does not receive an implicit first argument. A static method is also a method that is bound to the class and not the object of the class. This method can’t access or modify the class state. It is present in a class because it makes sense for the method to be present in class."
      ],
      "metadata": {
        "id": "yxwWUzCAv1aq"
      }
    },
    {
      "cell_type": "markdown",
      "source": [
        "23.How does polymorphism work in Python with inheritance?\n",
        ">>Answer :Polymorphism is a foundational concept in programming that allows entities like functions, methods or operators to behave differently based on the type of data they are handling. Derived from Greek, the term literally means “many forms”.\n",
        "\n",
        "Python’s dynamic typing and duck typing make it inherently polymorphic. Functions, operators and even built-in objects like loops exhibit polymorphic behavior."
      ],
      "metadata": {
        "id": "7bVe8mMGwEZL"
      }
    },
    {
      "cell_type": "markdown",
      "source": [
        "24.What is method chaining in Python OOP?\n",
        ">>Answer : Method chaining is a powerful technique in Python programming that allows us to call multiple methods on an object in a single, continuous line of code. This approach makes the code cleaner, more readable, and often easier to maintain. It is frequently used in data processing, object-oriented programming, and frameworks such as Pandas, Django ORM, and Flask."
      ],
      "metadata": {
        "id": "SBDJgvwEwd5u"
      }
    },
    {
      "cell_type": "markdown",
      "source": [
        "25.What is the purpose of the __call__ method in Python?\n",
        ">>Answer : Python has a set of built-in methods and\n",
        "__call__is one of them. The__call__\n",
        "method enables Python programmers to write classes where the instances behave like functions and can be called like a function. When the instance is called as a function; if this method is defined,"
      ],
      "metadata": {
        "id": "pKSt4yUbw_Lm"
      }
    },
    {
      "cell_type": "markdown",
      "source": [
        "**Practical Questions **"
      ],
      "metadata": {
        "id": "MWVlsx0PxWja"
      }
    },
    {
      "cell_type": "code",
      "source": [
        "#1 Create a parent class Animal with a method speak() that prints a generic message. Create a child class Dog\n",
        "#that overrides the speak() method to print \"Bark!\".\n",
        "\n",
        "class Animal :\n",
        "  def speak(self):\n",
        "    print(\"Bark!\")\n",
        "class Dog(Animal):\n",
        "  def speak(self):\n",
        "    print(\"Bark!\")\n",
        "animal = Animal()\n",
        "dog = Dog()\n",
        "\n",
        "animal.speak();\n",
        "dog.speak()"
      ],
      "metadata": {
        "colab": {
          "base_uri": "https://localhost:8080/"
        },
        "id": "XfxWcDxlxzRT",
        "outputId": "c1d79136-4856-4974-eb90-d1a300b128b3"
      },
      "execution_count": null,
      "outputs": [
        {
          "output_type": "stream",
          "name": "stdout",
          "text": [
            "Bark!\n",
            "Bark!\n"
          ]
        }
      ]
    },
    {
      "cell_type": "code",
      "source": [
        "#2.Write a program to create an abstract class Shape with a method area(). Derive classes Circle and Rectangle\n",
        "#from it and implement the area() method in both.\n",
        "from abc import ABC, abstractmethod\n",
        "import math\n",
        "\n",
        "# Abstract class\n",
        "class Shape(ABC):\n",
        "    @abstractmethod\n",
        "    def area(self):\n",
        "        pass\n",
        "\n",
        "# Derived class Circle\n",
        "class Circle(Shape):\n",
        "    def __init__(self, radius):\n",
        "        self.radius = radius\n",
        "\n",
        "    def area(self):\n",
        "        return math.pi * (self.radius ** 2)\n",
        "\n",
        "# Derived class Rectangle\n",
        "class Rectangle(Shape):\n",
        "    def __init__(self, length, width):\n",
        "        self.length = length\n",
        "        self.width = width\n",
        "\n",
        "    def area(self):\n",
        "        return self.length * self.width\n",
        "\n",
        "# Creating objects\n",
        "circle = Circle(5)\n",
        "rectangle = Rectangle(4, 6)\n",
        "\n",
        "# Calculating areas\n",
        "print(f\"Area of Circle: {circle.area()}\")  # Area of Circle: 78.53981633974483\n",
        "print(f\"Area of Rectangle: {rectangle.area()}\")  # Area of Rectangle: 24\n"
      ],
      "metadata": {
        "colab": {
          "base_uri": "https://localhost:8080/"
        },
        "id": "1N7ESNrNxzN0",
        "outputId": "c49201e6-5eb9-4e44-9f1a-d393114d0a54"
      },
      "execution_count": null,
      "outputs": [
        {
          "output_type": "stream",
          "name": "stdout",
          "text": [
            "Area of Circle: 78.53981633974483\n",
            "Area of Rectangle: 24\n"
          ]
        }
      ]
    },
    {
      "cell_type": "code",
      "source": [
        "#3. Implement a multi-level inheritance scenario where a class Vehicle has an attribute type. Derive a class Car\n",
        "#and further derive a class ElectricCar that adds a battery attribute.\n",
        "# Base class\n",
        "class Vehicle:\n",
        "    def __init__(self, type_of_vehicle):\n",
        "        self.type = type_of_vehicle\n",
        "\n",
        "    def display_type(self):\n",
        "        print(f\"This is a {self.type} vehicle.\")\n",
        "\n",
        "# Derived class Car\n",
        "class Car(Vehicle):\n",
        "    def __init__(self, type_of_vehicle, brand):\n",
        "        super().__init__(type_of_vehicle)  # Call the constructor of the Vehicle class\n",
        "        self.brand = brand\n",
        "\n",
        "    def display_brand(self):\n",
        "        print(f\"This is a {self.brand} car.\")\n",
        "\n",
        "# Further derived class ElectricCar\n",
        "class ElectricCar(Car):\n",
        "    def __init__(self, type_of_vehicle, brand, battery_capacity):\n",
        "        super().__init__(type_of_vehicle, brand)  # Call the constructor of the Car class\n",
        "        self.battery_capacity = battery_capacity\n",
        "\n",
        "    def display_battery(self):\n",
        "        print(f\"This electric car has a {self.battery_capacity} kWh battery.\")\n",
        "\n",
        "# Creating objects\n",
        "vehicle = Vehicle(\"general\")\n",
        "car = Car(\"car\", \"Toyota\")\n",
        "electric_car = ElectricCar(\"electric car\", \"Tesla\", 75)\n",
        "\n",
        "# Displaying details\n",
        "vehicle.display_type()\n",
        "car.display_type()\n",
        "car.display_brand()\n",
        "electric_car.display_type()\n",
        "electric_car.display_brand()\n",
        "electric_car.display_battery()\n"
      ],
      "metadata": {
        "colab": {
          "base_uri": "https://localhost:8080/"
        },
        "id": "HsCjazV2xzHQ",
        "outputId": "95de7c69-6a26-4aa3-f62b-1d6f7b7cf25f"
      },
      "execution_count": null,
      "outputs": [
        {
          "output_type": "stream",
          "name": "stdout",
          "text": [
            "This is a general vehicle.\n",
            "This is a car vehicle.\n",
            "This is a Toyota car.\n",
            "This is a electric car vehicle.\n",
            "This is a Tesla car.\n",
            "This electric car has a 75 kWh battery.\n"
          ]
        }
      ]
    },
    {
      "cell_type": "code",
      "source": [
        "#4.Implement a multi-level inheritance scenario where a class Vehicle has an attribute type. Derive a class Car\n",
        "#and further derive a class ElectricCar that adds a battery attribute.\n",
        "# Base class Vehicle\n",
        "class Vehicle:\n",
        "    def __init__(self, type_of_vehicle):\n",
        "        self.type = type_of_vehicle  # Attribute to store the type of vehicle\n",
        "\n",
        "    def display_type(self):\n",
        "        print(f\"This is a {self.type} vehicle.\")\n",
        "\n",
        "# Derived class Car\n",
        "class Car(Vehicle):\n",
        "    def __init__(self, type_of_vehicle, brand):\n",
        "        super().__init__(type_of_vehicle)  # Calling the constructor of Vehicle class\n",
        "        self.brand = brand  # Attribute to store the brand of the car\n",
        "\n",
        "    def display_brand(self):\n",
        "        print(f\"This is a {self.brand} car.\")\n",
        "\n",
        "# Further derived class ElectricCar\n",
        "class ElectricCar(Car):\n",
        "    def __init__(self, type_of_vehicle, brand, battery_capacity):\n",
        "        super().__init__(type_of_vehicle, brand)  # Calling the constructor of Car class\n",
        "        self.battery_capacity = battery_capacity  # Attribute to store the battery capacity\n",
        "\n",
        "    def display_battery(self):\n",
        "        print(f\"This electric car has a {self.battery_capacity} kWh battery.\")\n",
        "\n",
        "# Creating objects\n",
        "vehicle = Vehicle(\"general\")\n",
        "car = Car(\"car\", \"Toyota\")\n",
        "electric_car = ElectricCar(\"electric car\", \"Tesla\", 75)\n",
        "\n",
        "# Displaying details\n",
        "vehicle.display_type()\n",
        "car.display_type()\n",
        "car.display_brand()\n",
        "electric_car.display_type()\n",
        "electric_car.display_brand()\n",
        "electric_car.display_battery()\n",
        "\n"
      ],
      "metadata": {
        "id": "FqJlw5UKzqQ0"
      },
      "execution_count": null,
      "outputs": []
    },
    {
      "cell_type": "code",
      "source": [
        "#5.Write a program to demonstrate encapsulation by creating a class BankAccount with private attributes\n",
        "#balance and methods to deposit, withdraw, and check balance.\n",
        "class BankAccount:\n",
        "  def __init__(self, balance):\n",
        "    self.__balance = balance  #creating an a private mamber\n",
        "\n",
        "  def deposit(self, amount):\n",
        "    if amount > 0:\n",
        "      self.__balance += amount\n",
        "      print(f\"Deposit Amount {amount}\")\n",
        "    else:\n",
        "      print(\"deposit amount must be positive\")\n",
        "\n",
        "  def withdrew(self, amount):\n",
        "    if amount > 0:\n",
        "      if amount <= self.__balance:\n",
        "        self.__balance -= amount\n",
        "        print(f\"Withdrew: {amount}\")\n",
        "      else:\n",
        "        print(\"insufficient balance\")\n",
        "    else:\n",
        "      print(\"amount must be positive\")\n",
        "\n",
        "  def show_balance(self):\n",
        "    print(f\"current balance {self.__balance}\")\n",
        "\n",
        "account = BankAccount(50000)\n",
        "account.deposit(5000)\n",
        "account.withdrew(13000)\n",
        "account.show_balance()"
      ],
      "metadata": {
        "colab": {
          "base_uri": "https://localhost:8080/"
        },
        "id": "5CJFkvuIz5r3",
        "outputId": "f984633e-957d-4531-81d3-0acc7ffdc0f4"
      },
      "execution_count": null,
      "outputs": [
        {
          "output_type": "stream",
          "name": "stdout",
          "text": [
            "Deposit Amount 5000\n",
            "Withdrew: 13000\n",
            "current balance 42000\n"
          ]
        }
      ]
    },
    {
      "cell_type": "code",
      "source": [
        "#6.Demonstrate runtime polymorphism using a method play() in a base class Instrument. Derive classes Guitar\n",
        "#and Piano that implement their own version of play().\n",
        "\n",
        "# Base class\n",
        "class Instrument:\n",
        "    def play(self):\n",
        "        print(\"Playing an instrument\")\n",
        "\n",
        "# Derived class Guitar\n",
        "class Guitar(Instrument):\n",
        "    def play(self):\n",
        "        print(\"Strumming the guitar\")\n",
        "\n",
        "# Derived class Piano\n",
        "class Piano(Instrument):\n",
        "    def play(self):\n",
        "        print(\"Playing the piano keys\")\n",
        "\n",
        "# Creating objects\n",
        "instrument = Instrument()\n",
        "guitar = Guitar()\n",
        "piano = Piano()\n",
        "\n",
        "# Demonstrating runtime polymorphism\n",
        "def demonstrate_play(instrument):\n",
        "    instrument.play()\n",
        "\n",
        "# Calling play() on different objects\n",
        "demonstrate_play(instrument)  # This will print: Playing an instrument\n",
        "demonstrate_play(guitar)      # This will print: Strumming the guitar\n",
        "demonstrate_play(piano)       # This will print: Playing the piano keys\n",
        "\n"
      ],
      "metadata": {
        "colab": {
          "base_uri": "https://localhost:8080/"
        },
        "id": "sq-Kmx08xzE0",
        "outputId": "408d8ce4-d767-4956-bb8a-f7a14e317985"
      },
      "execution_count": null,
      "outputs": [
        {
          "output_type": "stream",
          "name": "stdout",
          "text": [
            "Playing an instrument\n",
            "Strumming the guitar\n",
            "Playing the piano keys\n"
          ]
        }
      ]
    },
    {
      "cell_type": "code",
      "source": [
        "#7Create a class MathOperations with a class method add_numbers() to add two numbers and a static\n",
        "#method subtract_numbers() to subtract two numbers.\n",
        "class MathOperations:\n",
        "  @classmethod\n",
        "  def add_number(cls, a, b):\n",
        "    return a + b\n",
        "  @staticmethod\n",
        "  def subtract_number(a, b):\n",
        "    return a - b\n",
        "math = MathOperations()\n",
        "\n",
        "math.add_number(12, 34)\n",
        "math.subtract_number(12, 30)"
      ],
      "metadata": {
        "id": "hBkv0BH4xzB_",
        "colab": {
          "base_uri": "https://localhost:8080/"
        },
        "outputId": "0752ac5f-522d-4f0e-bdc0-2ed1d41943ca"
      },
      "execution_count": 7,
      "outputs": [
        {
          "output_type": "execute_result",
          "data": {
            "text/plain": [
              "-18"
            ]
          },
          "metadata": {},
          "execution_count": 7
        }
      ]
    },
    {
      "cell_type": "code",
      "source": [
        "#8 Implement a class Person with a class method to count the total number of persons created.\n",
        "class Person:\n",
        "  total_person = 0\n",
        "  def __init__(self, name, age):\n",
        "    self.name = name\n",
        "    self.age = age\n",
        "    Person.total_person += 1\n",
        "  @classmethod\n",
        "  def get_total_person(cls):\n",
        "    return cls.total_person\n",
        "p1 = Person('Deepak', '24')\n",
        "p2 = Person('abc', '34')\n",
        "total_count = Person.get_total_person()\n",
        "print(f\"Total person created :{total_count}\")"
      ],
      "metadata": {
        "id": "PXmFR6nbxy8J",
        "colab": {
          "base_uri": "https://localhost:8080/"
        },
        "outputId": "d2304d84-d694-4c0e-e073-9e4b75ad3cce"
      },
      "execution_count": 10,
      "outputs": [
        {
          "output_type": "stream",
          "name": "stdout",
          "text": [
            "Total person created :2\n"
          ]
        }
      ]
    },
    {
      "cell_type": "code",
      "source": [
        "#9 Write a class Fraction with attributes numerator and denominator. Override the str method to display the\n",
        "#fraction as \"numerator/denominator\".\n",
        "class Fraction:\n",
        "  def __init__(self, numerator, denominator):\n",
        "     self.numerator = numerator\n",
        "     self.denominator = denominator\n",
        "  def __str__(self):\n",
        "    return f\"{self.numerator}/{self.denominator}\"\n",
        "fraction = Fraction(3, 4)\n",
        "print(fraction)"
      ],
      "metadata": {
        "id": "hXGsCAdUxyZk",
        "colab": {
          "base_uri": "https://localhost:8080/"
        },
        "outputId": "61959406-1ddc-41d0-e263-72e298151959"
      },
      "execution_count": 11,
      "outputs": [
        {
          "output_type": "stream",
          "name": "stdout",
          "text": [
            "3/4\n"
          ]
        }
      ]
    },
    {
      "cell_type": "code",
      "source": [
        "#10.Demonstrate operator overloading by creating a class Vector and overriding the add method to add two\n",
        "#vectors.\n",
        "class Vector:\n",
        "  def __init__(self, a, b):\n",
        "    self.a = a\n",
        "    self.b = b\n",
        "  def add(self, other):\n",
        "    return Vector(self.a + other.a, self.b + other.b)\n",
        "  def __str__(self):\n",
        "    return f\"({self.a},{self.b})\"\n",
        "vector1 = Vector(3, 4)\n",
        "vector2 = Vector(1, 2)\n",
        "\n",
        "result = vector1 + vector2\n",
        "print(result)\n"
      ],
      "metadata": {
        "colab": {
          "base_uri": "https://localhost:8080/",
          "height": 193
        },
        "collapsed": true,
        "id": "hGU0dACahRzd",
        "outputId": "07f1052a-d97a-44cc-8e4c-669768780157"
      },
      "execution_count": 21,
      "outputs": [
        {
          "output_type": "error",
          "ename": "TypeError",
          "evalue": "unsupported operand type(s) for +: 'Vector' and 'Vector'",
          "traceback": [
            "\u001b[0;31m---------------------------------------------------------------------------\u001b[0m",
            "\u001b[0;31mTypeError\u001b[0m                                 Traceback (most recent call last)",
            "\u001b[0;32m<ipython-input-21-294f2e0edb88>\u001b[0m in \u001b[0;36m<cell line: 0>\u001b[0;34m()\u001b[0m\n\u001b[1;32m     12\u001b[0m \u001b[0mvector2\u001b[0m \u001b[0;34m=\u001b[0m \u001b[0mVector\u001b[0m\u001b[0;34m(\u001b[0m\u001b[0;36m1\u001b[0m\u001b[0;34m,\u001b[0m \u001b[0;36m2\u001b[0m\u001b[0;34m)\u001b[0m\u001b[0;34m\u001b[0m\u001b[0;34m\u001b[0m\u001b[0m\n\u001b[1;32m     13\u001b[0m \u001b[0;34m\u001b[0m\u001b[0m\n\u001b[0;32m---> 14\u001b[0;31m \u001b[0mresult\u001b[0m \u001b[0;34m=\u001b[0m \u001b[0mvector1\u001b[0m \u001b[0;34m+\u001b[0m \u001b[0mvector2\u001b[0m\u001b[0;34m\u001b[0m\u001b[0;34m\u001b[0m\u001b[0m\n\u001b[0m\u001b[1;32m     15\u001b[0m \u001b[0mprint\u001b[0m\u001b[0;34m(\u001b[0m\u001b[0mresult\u001b[0m\u001b[0;34m)\u001b[0m\u001b[0;34m\u001b[0m\u001b[0;34m\u001b[0m\u001b[0m\n",
            "\u001b[0;31mTypeError\u001b[0m: unsupported operand type(s) for +: 'Vector' and 'Vector'"
          ]
        }
      ]
    },
    {
      "cell_type": "code",
      "source": [
        "#11.Create a class Person with attributes name and age. Add a method greet() that prints \"Hello, my name is\n",
        "#{name} and I am {age} years old.\n",
        "class Person:\n",
        "  def __init__(self, name, age):\n",
        "    self.name = name\n",
        "    self.age = age\n",
        "  def greet(self):\n",
        "    print(f\"Hello My name is {self.name} and I am {self.age}\")\n",
        "person = Person(\"deepak\", 34)\n",
        "person.greet()"
      ],
      "metadata": {
        "colab": {
          "base_uri": "https://localhost:8080/"
        },
        "id": "0UeeEs6nhRv8",
        "outputId": "4e7a4548-67fc-4076-f164-92a6615d5f08"
      },
      "execution_count": 30,
      "outputs": [
        {
          "output_type": "stream",
          "name": "stdout",
          "text": [
            "Hello My name is deepak and I am 34\n"
          ]
        }
      ]
    },
    {
      "cell_type": "code",
      "source": [
        "#12.Implement a class Student with attributes name and grades. Create a method average_grade() to compute\n",
        "#the average of the grades.\n",
        "class Student:\n",
        "  def __init__(self, name, grades):\n",
        "    self.name = name\n",
        "    self.grades = grades\n",
        "  def average_grade(self):\n",
        "    if len(self.grades) > 0:\n",
        "      return sum(self.grades)/len(self.grades)\n",
        "    else:\n",
        "      return 0\n",
        "s1 = Student(\"deepak\", [67,87,83,85])\n",
        "avg_grade = s1.average_grade()\n",
        "print(f\"Average grade for {s1.name}:{avg_grade}\")"
      ],
      "metadata": {
        "colab": {
          "base_uri": "https://localhost:8080/"
        },
        "id": "dYhNMaW4hRt6",
        "outputId": "791d6bfd-3df5-4cc4-bcbf-c5ef5ef45cc4"
      },
      "execution_count": 32,
      "outputs": [
        {
          "output_type": "stream",
          "name": "stdout",
          "text": [
            "Average grade for deepak:80.5\n"
          ]
        }
      ]
    },
    {
      "cell_type": "code",
      "source": [
        "#13.Create a class Rectangle with methods set_dimensions() to set the dimensions and area() to calculate the\n",
        "#area.\n",
        "class Rectangle:\n",
        "  def __init__(self):\n",
        "    self.width = 0\n",
        "    self.height = 0\n",
        "  def set_dimensions(self, width, height):\n",
        "    self.width = width\n",
        "    self.height = height\n",
        "  def area(self):\n",
        "    return self.width * self.height\n",
        "rectangle = Rectangle()\n",
        "rectangle.set_dimensions(5, 10)\n",
        "area = rectangle.area()\n",
        "print(f\"The area of the rectangle is : {area}\")"
      ],
      "metadata": {
        "colab": {
          "base_uri": "https://localhost:8080/"
        },
        "id": "xbCUo_sKhRrc",
        "outputId": "40c54830-bd09-4e12-f534-73a668caa801"
      },
      "execution_count": 33,
      "outputs": [
        {
          "output_type": "stream",
          "name": "stdout",
          "text": [
            "The area of the rectangle is : 50\n"
          ]
        }
      ]
    },
    {
      "cell_type": "code",
      "source": [
        "from inspect import BoundArguments\n",
        "#14.Create a class Employee with a method calculate_salary() that computes the salary based on hours worked\n",
        "#and hourly rate. Create a derived class Manager that adds a bonus to the salary.\n",
        "class Employee:\n",
        "  def __init__(self, name, hours_worked, hourly_rates):\n",
        "    self.name = name\n",
        "    self.hours_worked = hours_worked\n",
        "    self.hourly_rates = hourly_rates\n",
        "  def calculate_salary(self):\n",
        "    return self.hours_worked * self.hourly_rates\n",
        "class Manager(Employee):\n",
        "  def __init__(self, name, hours_worked, hourly_rates, bonus):\n",
        "    super().__init__(name, hourly_rates, hours_worked)\n",
        "    self.bonus = bonus\n",
        "  def calculate_salary(self):\n",
        "    base_salary = super().calculate_salary()\n",
        "    return base_salary + self.bonus\n",
        "\n",
        "emp = Employee(\"deepak\", 160, 30)\n",
        "employee_salary = emp.calculate_salary()\n",
        "print(f\"Employee salary {employee_salary}\")\n",
        "\n",
        "manager = Manager(\"Harish\",  160, 30, 2000) #160 is working hours and 30 is hourly rates and 2000 is bonus\n",
        "manager_salary = manager.calculate_salary()\n",
        "print(f\"Manager salary : {manager_salary}\")\n",
        "\n",
        "\n"
      ],
      "metadata": {
        "colab": {
          "base_uri": "https://localhost:8080/"
        },
        "id": "Oszph7FThRpW",
        "outputId": "c71707c1-3780-4d6d-ddb9-ef75c5fe40ac"
      },
      "execution_count": 35,
      "outputs": [
        {
          "output_type": "stream",
          "name": "stdout",
          "text": [
            "Employee salary 4800\n",
            "Manager salary : 6800\n"
          ]
        }
      ]
    },
    {
      "cell_type": "code",
      "source": [
        "#15.Create a class Product with attributes name, price, and quantity. Implement a method total_price() that\n",
        "#calculates the total price of the product.\n",
        "class Product:\n",
        "  def __init__(self, name, price, quantity):\n",
        "    self.name = name\n",
        "    self.price = price\n",
        "    self.quantity = quantity\n",
        "\n",
        "  def total_price(self):\n",
        "   return self.price * self.quantity\n",
        "product = Product(\"Leptop\", 10000, 4)\n",
        "\n",
        "total = product.total_price()\n",
        "print(f\"the total price of the product is {total}\")\n"
      ],
      "metadata": {
        "colab": {
          "base_uri": "https://localhost:8080/"
        },
        "id": "TnwORfyvhRQU",
        "outputId": "9e2ee158-48bf-4cf8-d99e-eefaeb700618"
      },
      "execution_count": 39,
      "outputs": [
        {
          "output_type": "stream",
          "name": "stdout",
          "text": [
            "the total price of the product is 40000\n"
          ]
        }
      ]
    },
    {
      "cell_type": "code",
      "source": [
        "#16.Create a class Animal with an abstract method sound(). Create two derived classes Cow and Sheep that\n",
        "#implement the sound() method.\n",
        "from abc import ABC, abstractmethod\n",
        "\n",
        "class Animal(ABC):\n",
        "  @abstractmethod\n",
        "  def sound(self):\n",
        "    pass\n",
        "class Cow(Animal):\n",
        "  def sound(self):\n",
        "    return \"Moo\"\n",
        "class Sheep(Animal):\n",
        "  def sound(self):\n",
        "    return \"Baa\"\n",
        "cow = Cow()\n",
        "sheep = Sheep()\n",
        "\n",
        "print(f\"Cow says: {cow.sound()}\")\n",
        "print(f\"sheep says {sheep.sound()}\")\n"
      ],
      "metadata": {
        "colab": {
          "base_uri": "https://localhost:8080/"
        },
        "id": "Vo5oqvGdwNiW",
        "outputId": "9cd90081-86a5-4fab-97c3-d7072a0bd20a"
      },
      "execution_count": 43,
      "outputs": [
        {
          "output_type": "stream",
          "name": "stdout",
          "text": [
            "Cow says: Moo\n",
            "sheep says Baa\n"
          ]
        }
      ]
    },
    {
      "cell_type": "code",
      "source": [
        "#17.Create a class Book with attributes title, author, and year_published. Add a method get_book_info() that\n",
        "#returns a formatted string with the book's details.\n",
        "class Book:\n",
        "    def __init__(self, title, author, year_published):\n",
        "        self.title = title\n",
        "        self.author = author\n",
        "        self.year_published = year_published\n",
        "\n",
        "    def get_book_info(self):\n",
        "        \"\"\"Method to return a formatted string with the book's details.\"\"\"\n",
        "        return f\"Title: {self.title}\\nAuthor: {self.author}\\nYear Published: {self.year_published}\"\n",
        "# Creating a Book object\n",
        "book1 = Book(\"1984\", \"George Orwell\", 1949)\n",
        "\n",
        "# Calling the get_book_info method\n",
        "book_info = book1.get_book_info()\n",
        "\n",
        "# Printing the book's information\n",
        "print(book_info)\n",
        "\n"
      ],
      "metadata": {
        "colab": {
          "base_uri": "https://localhost:8080/"
        },
        "id": "sTw8h4RbyJFO",
        "outputId": "11278a25-1ff9-4f70-b2be-1fdbd670d412"
      },
      "execution_count": 44,
      "outputs": [
        {
          "output_type": "stream",
          "name": "stdout",
          "text": [
            "Title: 1984\n",
            "Author: George Orwell\n",
            "Year Published: 1949\n"
          ]
        }
      ]
    },
    {
      "cell_type": "code",
      "source": [
        "#18. Create a class House with attributes address and price. Create a derived class Mansion that adds an\n",
        "#attribute number_of_rooms.\n",
        "\n",
        "class House:\n",
        "    def __init__(self, address, price):\n",
        "        self.address = address\n",
        "        self.price = price\n",
        "\n",
        "    def get_house_info(self):\n",
        "        \"\"\"Method to return the basic information of the house.\"\"\"\n",
        "        return f\"Address: {self.address}\\nPrice: ${self.price}\"\n",
        "\n",
        "class Mansion(House):\n",
        "    def __init__(self, address, price, number_of_rooms):\n",
        "        # Initialize the parent class (House)\n",
        "        super().__init__(address, price)\n",
        "        self.number_of_rooms = number_of_rooms\n",
        "\n",
        "    def get_mansion_info(self):\n",
        "        \"\"\"Method to return the information of the mansion, including the number of rooms.\"\"\"\n",
        "        basic_info = super().get_house_info()\n",
        "        return f\"{basic_info}\\nNumber of rooms: {self.number_of_rooms}\"\n",
        "# Creating a House object\n",
        "house1 = House(\"123 Main St, Springfield\", 250000)\n",
        "\n",
        "# Creating a Mansion object\n",
        "mansion1 = Mansion(\"456 Luxury Blvd, Beverly Hills\", 5000000, 15)\n",
        "\n",
        "# Printing house information\n",
        "print(house1.get_house_info())\n",
        "\n",
        "# Printing mansion information\n",
        "print(mansion1.get_mansion_info())\n"
      ],
      "metadata": {
        "id": "g0hVCbkEyhWR"
      },
      "execution_count": null,
      "outputs": []
    }
  ]
}